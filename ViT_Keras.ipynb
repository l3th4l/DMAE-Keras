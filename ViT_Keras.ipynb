{
  "nbformat": 4,
  "nbformat_minor": 0,
  "metadata": {
    "colab": {
      "provenance": []
    },
    "kernelspec": {
      "name": "python3",
      "display_name": "Python 3"
    },
    "language_info": {
      "name": "python"
    }
  },
  "cells": [
    {
      "cell_type": "code",
      "execution_count": 2,
      "metadata": {
        "id": "5Eazbuesi_Jp"
      },
      "outputs": [],
      "source": [
        "import os\n",
        "\n",
        "os.environ[\"KERAS_BACKEND\"] = \"tensorflow\"  # @param [\"tensorflow\", \"jax\", \"torch\"]\n",
        "\n",
        "import tensorflow as tf\n",
        "from tensorflow import keras\n",
        "\n",
        "#import keras\n",
        "from tensorflow.keras import layers\n",
        "from tensorflow.keras import ops\n",
        "\n",
        "import numpy as np\n",
        "import matplotlib.pyplot as plt"
      ]
    },
    {
      "cell_type": "code",
      "source": [
        "num_classes = 100\n",
        "input_shape = (32, 32, 3)\n",
        "\n",
        "(x_train, y_train), (x_test, y_test) = keras.datasets.cifar10.load_data()\n",
        "\n",
        "print(f\"x_train shape: {x_train.shape} - y_train shape: {y_train.shape}\")\n",
        "print(f\"x_test shape: {x_test.shape} - y_test shape: {y_test.shape}\")"
      ],
      "metadata": {
        "colab": {
          "base_uri": "https://localhost:8080/"
        },
        "id": "gU7hlVj2jDwR",
        "outputId": "c98e5e57-959b-4e89-df0c-74ceaacc4286"
      },
      "execution_count": 4,
      "outputs": [
        {
          "output_type": "stream",
          "name": "stdout",
          "text": [
            "Downloading data from https://www.cs.toronto.edu/~kriz/cifar-10-python.tar.gz\n",
            "\u001b[1m170498071/170498071\u001b[0m \u001b[32m━━━━━━━━━━━━━━━━━━━━\u001b[0m\u001b[37m\u001b[0m \u001b[1m5s\u001b[0m 0us/step\n",
            "x_train shape: (50000, 32, 32, 3) - y_train shape: (50000, 1)\n",
            "x_test shape: (10000, 32, 32, 3) - y_test shape: (10000, 1)\n"
          ]
        }
      ]
    },
    {
      "cell_type": "code",
      "source": [
        "learning_rate = 0.001\n",
        "weight_decay = 0.0001\n",
        "batch_size = 256\n",
        "num_epochs = 100  # For real training, use num_epochs=100. 10 is a test value\n",
        "image_size = 72  # We'll resize input images to this size\n",
        "patch_size = 6  # Size of the patches to be extract from the input images\n",
        "num_patches = (image_size // patch_size) ** 2\n",
        "projection_dim = 64\n",
        "num_heads = 4\n",
        "transformer_units = [\n",
        "    projection_dim * 2,\n",
        "    projection_dim,\n",
        "]  # Size of the transformer layers\n",
        "transformer_layers = 8\n",
        "mlp_head_units = [\n",
        "    2048,\n",
        "    1024,\n",
        "]  # Size of the dense layers of the final classifier"
      ],
      "metadata": {
        "id": "FZzbJJrZjNIz"
      },
      "execution_count": 5,
      "outputs": []
    },
    {
      "cell_type": "code",
      "source": [
        "data_augmentation = keras.Sequential(\n",
        "    [\n",
        "        layers.Normalization(),\n",
        "        layers.Resizing(image_size, image_size),\n",
        "        layers.RandomFlip(\"horizontal\"),\n",
        "        layers.RandomRotation(factor=0.02),\n",
        "        layers.RandomZoom(height_factor=0.2, width_factor=0.2),\n",
        "    ],\n",
        "    name=\"data_augmentation\",\n",
        ")\n",
        "# Compute the mean and the variance of the training data for normalization.\n",
        "data_augmentation.layers[0].adapt(x_train)"
      ],
      "metadata": {
        "id": "GJ7iCUpVjfio"
      },
      "execution_count": 6,
      "outputs": []
    },
    {
      "cell_type": "code",
      "source": [
        "def mlp(x, hidden_units, dropout_rate):\n",
        "    for units in hidden_units:\n",
        "        x = layers.Dense(units, activation=keras.activations.gelu)(x)\n",
        "        x = layers.Dropout(dropout_rate)(x)\n",
        "    return x"
      ],
      "metadata": {
        "id": "USu71xcNjh0c"
      },
      "execution_count": 7,
      "outputs": []
    },
    {
      "cell_type": "code",
      "source": [
        "class Patches(layers.Layer):\n",
        "    def __init__(self, patch_size):\n",
        "        super().__init__()\n",
        "        self.patch_size = patch_size\n",
        "\n",
        "    def call(self, images):\n",
        "        input_shape = ops.shape(images)\n",
        "        batch_size = input_shape[0]\n",
        "        height = input_shape[1]\n",
        "        width = input_shape[2]\n",
        "        channels = input_shape[3]\n",
        "        num_patches_h = height // self.patch_size\n",
        "        num_patches_w = width // self.patch_size\n",
        "        patches = keras.ops.image.extract_patches(images, size=self.patch_size)\n",
        "        patches = ops.reshape(\n",
        "            patches,\n",
        "            (\n",
        "                batch_size,\n",
        "                num_patches_h * num_patches_w,\n",
        "                self.patch_size * self.patch_size * channels,\n",
        "            ),\n",
        "        )\n",
        "        return patches\n",
        "\n",
        "    def get_config(self):\n",
        "        config = super().get_config()\n",
        "        config.update({\"patch_size\": self.patch_size})\n",
        "        return config"
      ],
      "metadata": {
        "id": "Ynu1V2dbjkBl"
      },
      "execution_count": 8,
      "outputs": []
    },
    {
      "cell_type": "code",
      "source": [
        "plt.figure(figsize=(4, 4))\n",
        "image = x_train[np.random.choice(range(x_train.shape[0]))]\n",
        "plt.imshow(image.astype(\"uint8\"))\n",
        "plt.axis(\"off\")\n",
        "\n",
        "resized_image = ops.image.resize(\n",
        "    ops.convert_to_tensor([image]), size=(image_size, image_size)\n",
        ")\n",
        "patches = Patches(patch_size)(resized_image)\n",
        "print(f\"Image size: {image_size} X {image_size}\")\n",
        "print(f\"Patch size: {patch_size} X {patch_size}\")\n",
        "print(f\"Patches per image: {patches.shape[1]}\")\n",
        "print(f\"Elements per patch: {patches.shape[-1]}\")\n",
        "\n",
        "n = int(np.sqrt(patches.shape[1]))\n",
        "plt.figure(figsize=(4, 4))\n",
        "for i, patch in enumerate(patches[0]):\n",
        "    ax = plt.subplot(n, n, i + 1)\n",
        "    patch_img = ops.reshape(patch, (patch_size, patch_size, 3))\n",
        "    plt.imshow(ops.convert_to_numpy(patch_img).astype(\"uint8\"))\n",
        "    plt.axis(\"off\")"
      ],
      "metadata": {
        "colab": {
          "base_uri": "https://localhost:8080/",
          "height": 742
        },
        "id": "uGgsCN8YjmY_",
        "outputId": "8133bd69-1da2-431e-b7ba-e31790aa5126"
      },
      "execution_count": 9,
      "outputs": [
        {
          "output_type": "stream",
          "name": "stdout",
          "text": [
            "Image size: 72 X 72\n",
            "Patch size: 6 X 6\n",
            "Patches per image: 144\n",
            "Elements per patch: 108\n"
          ]
        },
        {
          "output_type": "display_data",
          "data": {
            "text/plain": [
              "<Figure size 400x400 with 1 Axes>"
            ],
            "image/png": "[encoded data removed]"
          },
          "metadata": {}
        },
        {
          "output_type": "display_data",
          "data": {
            "text/plain": [
              "<Figure size 400x400 with 144 Axes>"
            ],
            "image/png": "[encoded data removed]"
          },
          "metadata": {}
        }
      ]
    },
    {
      "cell_type": "code",
      "source": [
        "class PatchEncoder(layers.Layer):\n",
        "    def __init__(self, num_patches, projection_dim):\n",
        "        super().__init__()\n",
        "        self.num_patches = num_patches\n",
        "        self.projection = layers.Dense(units=projection_dim)\n",
        "        self.position_embedding = layers.Embedding(\n",
        "            input_dim=num_patches, output_dim=projection_dim\n",
        "        )\n",
        "\n",
        "    def call(self, patch):\n",
        "        positions = ops.expand_dims(\n",
        "            ops.arange(start=0, stop=self.num_patches, step=1), axis=0\n",
        "        )\n",
        "        projected_patches = self.projection(patch)\n",
        "        encoded = projected_patches + self.position_embedding(positions)\n",
        "        return encoded\n",
        "\n",
        "    def get_config(self):\n",
        "        config = super().get_config()\n",
        "        config.update({\"num_patches\": self.num_patches})\n",
        "        return config"
      ],
      "metadata": {
        "id": "nTPJL1ZPjoDK"
      },
      "execution_count": null,
      "outputs": []
    },
    {
      "cell_type": "code",
      "source": [
        "def create_vit_classifier():\n",
        "    inputs = keras.Input(shape=input_shape)\n",
        "    # Augment data.\n",
        "    augmented = data_augmentation(inputs)\n",
        "    # Create patches.\n",
        "    patches = Patches(patch_size)(augmented)\n",
        "    # Encode patches.\n",
        "    encoded_patches = PatchEncoder(num_patches, projection_dim)(patches)\n",
        "\n",
        "    # Create multiple layers of the Transformer block.\n",
        "    for _ in range(transformer_layers):\n",
        "        # Layer normalization 1.\n",
        "        x1 = layers.LayerNormalization(epsilon=1e-6)(encoded_patches)\n",
        "        # Create a multi-head attention layer.\n",
        "        attention_output = layers.MultiHeadAttention(\n",
        "            num_heads=num_heads, key_dim=projection_dim, dropout=0.1\n",
        "        )(x1, x1)\n",
        "        # Skip connection 1.\n",
        "        x2 = layers.Add()([attention_output, encoded_patches])\n",
        "        # Layer normalization 2.\n",
        "        x3 = layers.LayerNormalization(epsilon=1e-6)(x2)\n",
        "        # MLP.\n",
        "        x3 = mlp(x3, hidden_units=transformer_units, dropout_rate=0.1)\n",
        "        # Skip connection 2.\n",
        "        encoded_patches = layers.Add()([x3, x2])\n",
        "\n",
        "    # Create a [batch_size, projection_dim] tensor.\n",
        "    representation = layers.LayerNormalization(epsilon=1e-6)(encoded_patches)\n",
        "    representation = layers.Flatten()(representation)\n",
        "    representation = layers.Dropout(0.5)(representation)\n",
        "    # Add MLP.\n",
        "    features = mlp(representation, hidden_units=mlp_head_units, dropout_rate=0.5)\n",
        "    # Classify outputs.\n",
        "    logits = layers.Dense(num_classes)(features)\n",
        "    # Create the Keras model.\n",
        "    model = keras.Model(inputs=inputs, outputs=logits)\n",
        "    return model"
      ],
      "metadata": {
        "id": "xV4TRFgPjqao"
      },
      "execution_count": null,
      "outputs": []
    },
    {
      "cell_type": "code",
      "source": [
        "def run_experiment(model):\n",
        "    optimizer = keras.optimizers.AdamW(\n",
        "        learning_rate=learning_rate, weight_decay=weight_decay\n",
        "    )\n",
        "\n",
        "    model.compile(\n",
        "        optimizer=optimizer,\n",
        "        loss=keras.losses.SparseCategoricalCrossentropy(from_logits=True),\n",
        "        metrics=[\n",
        "            keras.metrics.SparseCategoricalAccuracy(name=\"accuracy\"),\n",
        "            keras.metrics.SparseTopKCategoricalAccuracy(5, name=\"top-5-accuracy\"),\n",
        "        ],\n",
        "    )\n",
        "\n",
        "    checkpoint_filepath = \"/chkpt/checkpoint.weights.h5\"\n",
        "    checkpoint_callback = keras.callbacks.ModelCheckpoint(\n",
        "        checkpoint_filepath,\n",
        "        monitor=\"val_accuracy\",\n",
        "        save_best_only=True,\n",
        "        save_weights_only=True,\n",
        "    )\n",
        "\n",
        "    history = model.fit(\n",
        "        x=x_train,\n",
        "        y=y_train,\n",
        "        batch_size=batch_size,\n",
        "        epochs=num_epochs,\n",
        "        validation_split=0.1,\n",
        "        callbacks=[checkpoint_callback],\n",
        "    )\n",
        "\n",
        "    model.load_weights(checkpoint_filepath)\n",
        "    _, accuracy, top_5_accuracy = model.evaluate(x_test, y_test)\n",
        "    print(f\"Test accuracy: {round(accuracy * 100, 2)}%\")\n",
        "    print(f\"Test top 5 accuracy: {round(top_5_accuracy * 100, 2)}%\")\n",
        "\n",
        "    return history\n",
        "\n",
        "\n",
        "vit_classifier = create_vit_classifier()\n",
        "history = run_experiment(vit_classifier)\n",
        "\n",
        "\n",
        "def plot_history(item):\n",
        "    plt.plot(history.history[item], label=item)\n",
        "    plt.plot(history.history[\"val_\" + item], label=\"val_\" + item)\n",
        "    plt.xlabel(\"Epochs\")\n",
        "    plt.ylabel(item)\n",
        "    plt.title(\"Train and Validation {} Over Epochs\".format(item), fontsize=14)\n",
        "    plt.legend()\n",
        "    plt.grid()\n",
        "    plt.show()\n",
        "\n",
        "\n",
        "plot_history(\"loss\")\n",
        "plot_history(\"top-5-accuracy\")"
      ],
      "metadata": {
        "colab": {
          "base_uri": "https://localhost:8080/"
        },
        "id": "qCbczon4jtCT",
        "outputId": "de4f6136-c18a-4b67-f970-39181da907bd"
      },
      "execution_count": null,
      "outputs": [
        {
          "output_type": "stream",
          "name": "stdout",
          "text": [
            "Epoch 1/100\n",
            "\u001b[1m176/176\u001b[0m \u001b[32m━━━━━━━━━━━━━━━━━━━━\u001b[0m\u001b[37m\u001b[0m \u001b[1m178s\u001b[0m 826ms/step - accuracy: 0.0254 - loss: 5.0651 - top-5-accuracy: 0.1042 - val_accuracy: 0.0994 - val_loss: 3.9482 - val_top-5-accuracy: 0.3060\n",
            "Epoch 2/100\n",
            "\u001b[1m176/176\u001b[0m \u001b[32m━━━━━━━━━━━━━━━━━━━━\u001b[0m\u001b[37m\u001b[0m \u001b[1m144s\u001b[0m 820ms/step - accuracy: 0.0717 - loss: 4.0776 - top-5-accuracy: 0.2431 - val_accuracy: 0.1320 - val_loss: 3.6923 - val_top-5-accuracy: 0.3716\n",
            "Epoch 3/100\n",
            "\u001b[1m176/176\u001b[0m \u001b[32m━━━━━━━━━━━━━━━━━━━━\u001b[0m\u001b[37m\u001b[0m \u001b[1m146s\u001b[0m 832ms/step - accuracy: 0.1063 - loss: 3.8398 - top-5-accuracy: 0.3171 - val_accuracy: 0.1718 - val_loss: 3.4740 - val_top-5-accuracy: 0.4384\n",
            "Epoch 4/100\n",
            "\u001b[1m176/176\u001b[0m \u001b[32m━━━━━━━━━━━━━━━━━━━━\u001b[0m\u001b[37m\u001b[0m \u001b[1m201s\u001b[0m 829ms/step - accuracy: 0.1262 - loss: 3.6758 - top-5-accuracy: 0.3648 - val_accuracy: 0.1980 - val_loss: 3.4303 - val_top-5-accuracy: 0.4508\n",
            "Epoch 5/100\n",
            "\u001b[1m176/176\u001b[0m \u001b[32m━━━━━━━━━━━━━━━━━━━━\u001b[0m\u001b[37m\u001b[0m \u001b[1m151s\u001b[0m 857ms/step - accuracy: 0.1557 - loss: 3.5064 - top-5-accuracy: 0.4186 - val_accuracy: 0.2318 - val_loss: 3.1778 - val_top-5-accuracy: 0.5206\n",
            "Epoch 6/100\n",
            "\u001b[1m176/176\u001b[0m \u001b[32m━━━━━━━━━━━━━━━━━━━━\u001b[0m\u001b[37m\u001b[0m \u001b[1m203s\u001b[0m 863ms/step - accuracy: 0.1888 - loss: 3.3408 - top-5-accuracy: 0.4660 - val_accuracy: 0.2494 - val_loss: 3.0597 - val_top-5-accuracy: 0.5432\n",
            "Epoch 7/100\n",
            "\u001b[1m176/176\u001b[0m \u001b[32m━━━━━━━━━━━━━━━━━━━━\u001b[0m\u001b[37m\u001b[0m \u001b[1m235s\u001b[0m 1s/step - accuracy: 0.2202 - loss: 3.1756 - top-5-accuracy: 0.5107 - val_accuracy: 0.2774 - val_loss: 2.9072 - val_top-5-accuracy: 0.5792\n",
            "Epoch 8/100\n",
            "\u001b[1m176/176\u001b[0m \u001b[32m━━━━━━━━━━━━━━━━━━━━\u001b[0m\u001b[37m\u001b[0m \u001b[1m168s\u001b[0m 862ms/step - accuracy: 0.2437 - loss: 3.0323 - top-5-accuracy: 0.5453 - val_accuracy: 0.2994 - val_loss: 2.7558 - val_top-5-accuracy: 0.6134\n",
            "Epoch 9/100\n",
            "\u001b[1m176/176\u001b[0m \u001b[32m━━━━━━━━━━━━━━━━━━━━\u001b[0m\u001b[37m\u001b[0m \u001b[1m151s\u001b[0m 858ms/step - accuracy: 0.2741 - loss: 2.8715 - top-5-accuracy: 0.5895 - val_accuracy: 0.3320 - val_loss: 2.6379 - val_top-5-accuracy: 0.6414\n",
            "Epoch 10/100\n",
            "\u001b[1m176/176\u001b[0m \u001b[32m━━━━━━━━━━━━━━━━━━━━\u001b[0m\u001b[37m\u001b[0m \u001b[1m231s\u001b[0m 1s/step - accuracy: 0.2991 - loss: 2.7551 - top-5-accuracy: 0.6159 - val_accuracy: 0.3422 - val_loss: 2.5641 - val_top-5-accuracy: 0.6542\n",
            "Epoch 11/100\n",
            "\u001b[1m176/176\u001b[0m \u001b[32m━━━━━━━━━━━━━━━━━━━━\u001b[0m\u001b[37m\u001b[0m \u001b[1m173s\u001b[0m 859ms/step - accuracy: 0.3163 - loss: 2.6540 - top-5-accuracy: 0.6396 - val_accuracy: 0.3652 - val_loss: 2.4612 - val_top-5-accuracy: 0.6712\n",
            "Epoch 12/100\n",
            "\u001b[1m176/176\u001b[0m \u001b[32m━━━━━━━━━━━━━━━━━━━━\u001b[0m\u001b[37m\u001b[0m \u001b[1m203s\u001b[0m 865ms/step - accuracy: 0.3438 - loss: 2.5486 - top-5-accuracy: 0.6588 - val_accuracy: 0.3800 - val_loss: 2.4080 - val_top-5-accuracy: 0.6864\n",
            "Epoch 13/100\n",
            "\u001b[1m176/176\u001b[0m \u001b[32m━━━━━━━━━━━━━━━━━━━━\u001b[0m\u001b[37m\u001b[0m \u001b[1m200s\u001b[0m 854ms/step - accuracy: 0.3613 - loss: 2.4513 - top-5-accuracy: 0.6846 - val_accuracy: 0.3820 - val_loss: 2.3861 - val_top-5-accuracy: 0.6916\n",
            "Epoch 14/100\n",
            "\u001b[1m176/176\u001b[0m \u001b[32m━━━━━━━━━━━━━━━━━━━━\u001b[0m\u001b[37m\u001b[0m \u001b[1m202s\u001b[0m 856ms/step - accuracy: 0.3822 - loss: 2.3531 - top-5-accuracy: 0.7035 - val_accuracy: 0.4068 - val_loss: 2.2964 - val_top-5-accuracy: 0.7090\n",
            "Epoch 15/100\n",
            "\u001b[1m176/176\u001b[0m \u001b[32m━━━━━━━━━━━━━━━━━━━━\u001b[0m\u001b[37m\u001b[0m \u001b[1m200s\u001b[0m 847ms/step - accuracy: 0.3942 - loss: 2.2993 - top-5-accuracy: 0.7117 - val_accuracy: 0.4162 - val_loss: 2.2749 - val_top-5-accuracy: 0.7136\n",
            "Epoch 16/100\n",
            "\u001b[1m176/176\u001b[0m \u001b[32m━━━━━━━━━━━━━━━━━━━━\u001b[0m\u001b[37m\u001b[0m \u001b[1m192s\u001b[0m 787ms/step - accuracy: 0.4079 - loss: 2.2387 - top-5-accuracy: 0.7282 - val_accuracy: 0.4162 - val_loss: 2.2285 - val_top-5-accuracy: 0.7216\n",
            "Epoch 17/100\n",
            "\u001b[1m176/176\u001b[0m \u001b[32m━━━━━━━━━━━━━━━━━━━━\u001b[0m\u001b[37m\u001b[0m \u001b[1m150s\u001b[0m 835ms/step - accuracy: 0.4267 - loss: 2.1513 - top-5-accuracy: 0.7462 - val_accuracy: 0.4322 - val_loss: 2.1712 - val_top-5-accuracy: 0.7328\n",
            "Epoch 18/100\n",
            "\u001b[1m176/176\u001b[0m \u001b[32m━━━━━━━━━━━━━━━━━━━━\u001b[0m\u001b[37m\u001b[0m \u001b[1m194s\u001b[0m 788ms/step - accuracy: 0.4423 - loss: 2.0857 - top-5-accuracy: 0.7606 - val_accuracy: 0.4266 - val_loss: 2.1797 - val_top-5-accuracy: 0.7418\n",
            "Epoch 19/100\n",
            "\u001b[1m176/176\u001b[0m \u001b[32m━━━━━━━━━━━━━━━━━━━━\u001b[0m\u001b[37m\u001b[0m \u001b[1m154s\u001b[0m 858ms/step - accuracy: 0.4570 - loss: 2.0257 - top-5-accuracy: 0.7702 - val_accuracy: 0.4406 - val_loss: 2.1320 - val_top-5-accuracy: 0.7464\n",
            "Epoch 20/100\n",
            "\u001b[1m176/176\u001b[0m \u001b[32m━━━━━━━━━━━━━━━━━━━━\u001b[0m\u001b[37m\u001b[0m \u001b[1m197s\u001b[0m 829ms/step - accuracy: 0.4631 - loss: 1.9788 - top-5-accuracy: 0.7781 - val_accuracy: 0.4434 - val_loss: 2.1067 - val_top-5-accuracy: 0.7462\n",
            "Epoch 21/100\n",
            "\u001b[1m176/176\u001b[0m \u001b[32m━━━━━━━━━━━━━━━━━━━━\u001b[0m\u001b[37m\u001b[0m \u001b[1m152s\u001b[0m 863ms/step - accuracy: 0.4803 - loss: 1.9186 - top-5-accuracy: 0.7884 - val_accuracy: 0.4602 - val_loss: 2.0716 - val_top-5-accuracy: 0.7518\n",
            "Epoch 22/100\n",
            "\u001b[1m176/176\u001b[0m \u001b[32m━━━━━━━━━━━━━━━━━━━━\u001b[0m\u001b[37m\u001b[0m \u001b[1m189s\u001b[0m 788ms/step - accuracy: 0.4897 - loss: 1.8689 - top-5-accuracy: 0.8000 - val_accuracy: 0.4572 - val_loss: 2.0899 - val_top-5-accuracy: 0.7502\n",
            "Epoch 23/100\n",
            "\u001b[1m176/176\u001b[0m \u001b[32m━━━━━━━━━━━━━━━━━━━━\u001b[0m\u001b[37m\u001b[0m \u001b[1m153s\u001b[0m 852ms/step - accuracy: 0.5029 - loss: 1.8193 - top-5-accuracy: 0.8089 - val_accuracy: 0.4716 - val_loss: 2.0363 - val_top-5-accuracy: 0.7622\n",
            "Epoch 24/100\n",
            "\u001b[1m176/176\u001b[0m \u001b[32m━━━━━━━━━━━━━━━━━━━━\u001b[0m\u001b[37m\u001b[0m \u001b[1m191s\u001b[0m 788ms/step - accuracy: 0.5155 - loss: 1.7721 - top-5-accuracy: 0.8140 - val_accuracy: 0.4620 - val_loss: 2.0580 - val_top-5-accuracy: 0.7562\n",
            "Epoch 25/100\n",
            "\u001b[1m176/176\u001b[0m \u001b[32m━━━━━━━━━━━━━━━━━━━━\u001b[0m\u001b[37m\u001b[0m \u001b[1m141s\u001b[0m 785ms/step - accuracy: 0.5210 - loss: 1.7200 - top-5-accuracy: 0.8246 - val_accuracy: 0.4690 - val_loss: 2.0486 - val_top-5-accuracy: 0.7616\n",
            "Epoch 26/100\n",
            "\u001b[1m176/176\u001b[0m \u001b[32m━━━━━━━━━━━━━━━━━━━━\u001b[0m\u001b[37m\u001b[0m \u001b[1m154s\u001b[0m 853ms/step - accuracy: 0.5269 - loss: 1.6939 - top-5-accuracy: 0.8313 - val_accuracy: 0.4742 - val_loss: 2.0276 - val_top-5-accuracy: 0.7602\n",
            "Epoch 27/100\n",
            "\u001b[1m176/176\u001b[0m \u001b[32m━━━━━━━━━━━━━━━━━━━━\u001b[0m\u001b[37m\u001b[0m \u001b[1m242s\u001b[0m 1s/step - accuracy: 0.5438 - loss: 1.6383 - top-5-accuracy: 0.8393 - val_accuracy: 0.4750 - val_loss: 2.0327 - val_top-5-accuracy: 0.7614\n",
            "Epoch 28/100\n",
            "\u001b[1m176/176\u001b[0m \u001b[32m━━━━━━━━━━━━━━━━━━━━\u001b[0m\u001b[37m\u001b[0m \u001b[1m163s\u001b[0m 861ms/step - accuracy: 0.5585 - loss: 1.5906 - top-5-accuracy: 0.8465 - val_accuracy: 0.4822 - val_loss: 2.0040 - val_top-5-accuracy: 0.7692\n",
            "Epoch 29/100\n",
            "\u001b[1m176/176\u001b[0m \u001b[32m━━━━━━━━━━━━━━━━━━━━\u001b[0m\u001b[37m\u001b[0m \u001b[1m244s\u001b[0m 1s/step - accuracy: 0.5642 - loss: 1.5452 - top-5-accuracy: 0.8534 - val_accuracy: 0.4834 - val_loss: 1.9857 - val_top-5-accuracy: 0.7750\n",
            "Epoch 30/100\n",
            "\u001b[1m176/176\u001b[0m \u001b[32m━━━━━━━━━━━━━━━━━━━━\u001b[0m\u001b[37m\u001b[0m \u001b[1m161s\u001b[0m 864ms/step - accuracy: 0.5702 - loss: 1.5210 - top-5-accuracy: 0.8587 - val_accuracy: 0.4928 - val_loss: 1.9739 - val_top-5-accuracy: 0.7742\n",
            "Epoch 31/100\n",
            "\u001b[1m176/176\u001b[0m \u001b[32m━━━━━━━━━━━━━━━━━━━━\u001b[0m\u001b[37m\u001b[0m \u001b[1m139s\u001b[0m 787ms/step - accuracy: 0.5833 - loss: 1.4639 - top-5-accuracy: 0.8678 - val_accuracy: 0.4902 - val_loss: 1.9780 - val_top-5-accuracy: 0.7756\n",
            "Epoch 32/100\n",
            "\u001b[1m176/176\u001b[0m \u001b[32m━━━━━━━━━━━━━━━━━━━━\u001b[0m\u001b[37m\u001b[0m \u001b[1m154s\u001b[0m 854ms/step - accuracy: 0.5936 - loss: 1.4223 - top-5-accuracy: 0.8754 - val_accuracy: 0.4942 - val_loss: 1.9577 - val_top-5-accuracy: 0.7820\n",
            "Epoch 33/100\n",
            "\u001b[1m176/176\u001b[0m \u001b[32m━━━━━━━━━━━━━━━━━━━━\u001b[0m\u001b[37m\u001b[0m \u001b[1m190s\u001b[0m 787ms/step - accuracy: 0.6001 - loss: 1.3966 - top-5-accuracy: 0.8801 - val_accuracy: 0.4886 - val_loss: 1.9780 - val_top-5-accuracy: 0.7786\n",
            "Epoch 34/100\n",
            "\u001b[1m176/176\u001b[0m \u001b[32m━━━━━━━━━━━━━━━━━━━━\u001b[0m\u001b[37m\u001b[0m \u001b[1m159s\u001b[0m 884ms/step - accuracy: 0.6161 - loss: 1.3437 - top-5-accuracy: 0.8870 - val_accuracy: 0.5066 - val_loss: 1.9864 - val_top-5-accuracy: 0.7790\n",
            "Epoch 35/100\n",
            "\u001b[1m176/176\u001b[0m \u001b[32m━━━━━━━━━━━━━━━━━━━━\u001b[0m\u001b[37m\u001b[0m \u001b[1m185s\u001b[0m 787ms/step - accuracy: 0.6184 - loss: 1.3196 - top-5-accuracy: 0.8917 - val_accuracy: 0.4980 - val_loss: 1.9872 - val_top-5-accuracy: 0.7812\n",
            "Epoch 36/100\n",
            "\u001b[1m176/176\u001b[0m \u001b[32m━━━━━━━━━━━━━━━━━━━━\u001b[0m\u001b[37m\u001b[0m \u001b[1m141s\u001b[0m 784ms/step - accuracy: 0.6340 - loss: 1.2655 - top-5-accuracy: 0.8976 - val_accuracy: 0.4936 - val_loss: 1.9793 - val_top-5-accuracy: 0.7796\n",
            "Epoch 37/100\n",
            "\u001b[1m176/176\u001b[0m \u001b[32m━━━━━━━━━━━━━━━━━━━━\u001b[0m\u001b[37m\u001b[0m \u001b[1m138s\u001b[0m 785ms/step - accuracy: 0.6378 - loss: 1.2539 - top-5-accuracy: 0.9008 - val_accuracy: 0.5014 - val_loss: 1.9693 - val_top-5-accuracy: 0.7874\n",
            "Epoch 38/100\n",
            "\u001b[1m176/176\u001b[0m \u001b[32m━━━━━━━━━━━━━━━━━━━━\u001b[0m\u001b[37m\u001b[0m \u001b[1m142s\u001b[0m 785ms/step - accuracy: 0.6434 - loss: 1.2245 - top-5-accuracy: 0.9060 - val_accuracy: 0.5022 - val_loss: 1.9794 - val_top-5-accuracy: 0.7826\n",
            "Epoch 39/100\n",
            "\u001b[1m176/176\u001b[0m \u001b[32m━━━━━━━━━━━━━━━━━━━━\u001b[0m\u001b[37m\u001b[0m \u001b[1m142s\u001b[0m 784ms/step - accuracy: 0.6523 - loss: 1.1989 - top-5-accuracy: 0.9065 - val_accuracy: 0.5030 - val_loss: 1.9415 - val_top-5-accuracy: 0.7878\n",
            "Epoch 40/100\n",
            "\u001b[1m176/176\u001b[0m \u001b[32m━━━━━━━━━━━━━━━━━━━━\u001b[0m\u001b[37m\u001b[0m \u001b[1m142s\u001b[0m 784ms/step - accuracy: 0.6610 - loss: 1.1582 - top-5-accuracy: 0.9118 - val_accuracy: 0.5014 - val_loss: 1.9851 - val_top-5-accuracy: 0.7820\n",
            "Epoch 41/100\n",
            "\u001b[1m176/176\u001b[0m \u001b[32m━━━━━━━━━━━━━━━━━━━━\u001b[0m\u001b[37m\u001b[0m \u001b[1m149s\u001b[0m 846ms/step - accuracy: 0.6657 - loss: 1.1329 - top-5-accuracy: 0.9179 - val_accuracy: 0.5098 - val_loss: 1.9813 - val_top-5-accuracy: 0.7850\n",
            "Epoch 42/100\n",
            "\u001b[1m176/176\u001b[0m \u001b[32m━━━━━━━━━━━━━━━━━━━━\u001b[0m\u001b[37m\u001b[0m \u001b[1m192s\u001b[0m 788ms/step - accuracy: 0.6762 - loss: 1.0962 - top-5-accuracy: 0.9209 - val_accuracy: 0.5034 - val_loss: 1.9920 - val_top-5-accuracy: 0.7806\n",
            "Epoch 43/100\n",
            "\u001b[1m176/176\u001b[0m \u001b[32m━━━━━━━━━━━━━━━━━━━━\u001b[0m\u001b[37m\u001b[0m \u001b[1m148s\u001b[0m 825ms/step - accuracy: 0.6844 - loss: 1.0894 - top-5-accuracy: 0.9193 - val_accuracy: 0.5136 - val_loss: 2.0007 - val_top-5-accuracy: 0.7846\n",
            "Epoch 44/100\n",
            "\u001b[1m176/176\u001b[0m \u001b[32m━━━━━━━━━━━━━━━━━━━━\u001b[0m\u001b[37m\u001b[0m \u001b[1m195s\u001b[0m 787ms/step - accuracy: 0.6930 - loss: 1.0531 - top-5-accuracy: 0.9275 - val_accuracy: 0.5122 - val_loss: 1.9803 - val_top-5-accuracy: 0.7888\n",
            "Epoch 45/100\n",
            "\u001b[1m176/176\u001b[0m \u001b[32m━━━━━━━━━━━━━━━━━━━━\u001b[0m\u001b[37m\u001b[0m \u001b[1m141s\u001b[0m 785ms/step - accuracy: 0.6935 - loss: 1.0332 - top-5-accuracy: 0.9291 - val_accuracy: 0.5126 - val_loss: 1.9661 - val_top-5-accuracy: 0.7900\n",
            "Epoch 46/100\n",
            "\u001b[1m176/176\u001b[0m \u001b[32m━━━━━━━━━━━━━━━━━━━━\u001b[0m\u001b[37m\u001b[0m \u001b[1m153s\u001b[0m 849ms/step - accuracy: 0.7077 - loss: 0.9986 - top-5-accuracy: 0.9335 - val_accuracy: 0.5156 - val_loss: 1.9845 - val_top-5-accuracy: 0.7896\n",
            "Epoch 47/100\n",
            "\u001b[1m176/176\u001b[0m \u001b[32m━━━━━━━━━━━━━━━━━━━━\u001b[0m\u001b[37m\u001b[0m \u001b[1m191s\u001b[0m 787ms/step - accuracy: 0.7059 - loss: 0.9859 - top-5-accuracy: 0.9355 - val_accuracy: 0.5074 - val_loss: 1.9926 - val_top-5-accuracy: 0.7924\n",
            "Epoch 48/100\n",
            "\u001b[1m176/176\u001b[0m \u001b[32m━━━━━━━━━━━━━━━━━━━━\u001b[0m\u001b[37m\u001b[0m \u001b[1m142s\u001b[0m 785ms/step - accuracy: 0.7121 - loss: 0.9697 - top-5-accuracy: 0.9365 - val_accuracy: 0.5096 - val_loss: 2.0299 - val_top-5-accuracy: 0.7822\n",
            "Epoch 49/100\n",
            "\u001b[1m176/176\u001b[0m \u001b[32m━━━━━━━━━━━━━━━━━━━━\u001b[0m\u001b[37m\u001b[0m \u001b[1m142s\u001b[0m 786ms/step - accuracy: 0.7176 - loss: 0.9551 - top-5-accuracy: 0.9399 - val_accuracy: 0.5126 - val_loss: 2.0098 - val_top-5-accuracy: 0.7842\n",
            "Epoch 50/100\n",
            "\u001b[1m176/176\u001b[0m \u001b[32m━━━━━━━━━━━━━━━━━━━━\u001b[0m\u001b[37m\u001b[0m \u001b[1m149s\u001b[0m 828ms/step - accuracy: 0.7237 - loss: 0.9357 - top-5-accuracy: 0.9412 - val_accuracy: 0.5172 - val_loss: 2.0001 - val_top-5-accuracy: 0.7890\n",
            "Epoch 51/100\n",
            "\u001b[1m176/176\u001b[0m \u001b[32m━━━━━━━━━━━━━━━━━━━━\u001b[0m\u001b[37m\u001b[0m \u001b[1m195s\u001b[0m 788ms/step - accuracy: 0.7301 - loss: 0.9080 - top-5-accuracy: 0.9463 - val_accuracy: 0.5150 - val_loss: 2.0224 - val_top-5-accuracy: 0.7934\n",
            "Epoch 52/100\n",
            "\u001b[1m176/176\u001b[0m \u001b[32m━━━━━━━━━━━━━━━━━━━━\u001b[0m\u001b[37m\u001b[0m \u001b[1m141s\u001b[0m 784ms/step - accuracy: 0.7319 - loss: 0.8888 - top-5-accuracy: 0.9482 - val_accuracy: 0.5036 - val_loss: 2.0426 - val_top-5-accuracy: 0.7882\n",
            "Epoch 53/100\n",
            "\u001b[1m176/176\u001b[0m \u001b[32m━━━━━━━━━━━━━━━━━━━━\u001b[0m\u001b[37m\u001b[0m \u001b[1m155s\u001b[0m 860ms/step - accuracy: 0.7370 - loss: 0.8864 - top-5-accuracy: 0.9468 - val_accuracy: 0.5198 - val_loss: 2.0404 - val_top-5-accuracy: 0.7892\n",
            "Epoch 54/100\n",
            "\u001b[1m176/176\u001b[0m \u001b[32m━━━━━━━━━━━━━━━━━━━━\u001b[0m\u001b[37m\u001b[0m \u001b[1m189s\u001b[0m 788ms/step - accuracy: 0.7362 - loss: 0.8738 - top-5-accuracy: 0.9464 - val_accuracy: 0.5164 - val_loss: 2.0797 - val_top-5-accuracy: 0.7864\n",
            "Epoch 55/100\n",
            "\u001b[1m176/176\u001b[0m \u001b[32m━━━━━━━━━━━━━━━━━━━━\u001b[0m\u001b[37m\u001b[0m \u001b[1m141s\u001b[0m 784ms/step - accuracy: 0.7416 - loss: 0.8600 - top-5-accuracy: 0.9499 - val_accuracy: 0.5162 - val_loss: 2.0217 - val_top-5-accuracy: 0.7904\n",
            "Epoch 56/100\n",
            "\u001b[1m176/176\u001b[0m \u001b[32m━━━━━━━━━━━━━━━━━━━━\u001b[0m\u001b[37m\u001b[0m \u001b[1m142s\u001b[0m 785ms/step - accuracy: 0.7520 - loss: 0.8244 - top-5-accuracy: 0.9521 - val_accuracy: 0.5150 - val_loss: 2.0286 - val_top-5-accuracy: 0.7938\n",
            "Epoch 57/100\n",
            "\u001b[1m176/176\u001b[0m \u001b[32m━━━━━━━━━━━━━━━━━━━━\u001b[0m\u001b[37m\u001b[0m \u001b[1m183s\u001b[0m 1s/step - accuracy: 0.7496 - loss: 0.8267 - top-5-accuracy: 0.9515 - val_accuracy: 0.5216 - val_loss: 2.0653 - val_top-5-accuracy: 0.7940\n",
            "Epoch 58/100\n",
            "\u001b[1m176/176\u001b[0m \u001b[32m━━━━━━━━━━━━━━━━━━━━\u001b[0m\u001b[37m\u001b[0m \u001b[1m161s\u001b[0m 787ms/step - accuracy: 0.7561 - loss: 0.8152 - top-5-accuracy: 0.9521 - val_accuracy: 0.5146 - val_loss: 2.0421 - val_top-5-accuracy: 0.7924\n",
            "Epoch 59/100\n",
            "\u001b[1m176/176\u001b[0m \u001b[32m━━━━━━━━━━━━━━━━━━━━\u001b[0m\u001b[37m\u001b[0m \u001b[1m138s\u001b[0m 784ms/step - accuracy: 0.7584 - loss: 0.7968 - top-5-accuracy: 0.9580 - val_accuracy: 0.5150 - val_loss: 2.0978 - val_top-5-accuracy: 0.7864\n",
            "Epoch 60/100\n",
            "\u001b[1m176/176\u001b[0m \u001b[32m━━━━━━━━━━━━━━━━━━━━\u001b[0m\u001b[37m\u001b[0m \u001b[1m142s\u001b[0m 784ms/step - accuracy: 0.7584 - loss: 0.7919 - top-5-accuracy: 0.9584 - val_accuracy: 0.5174 - val_loss: 2.0919 - val_top-5-accuracy: 0.7876\n",
            "Epoch 61/100\n",
            "\u001b[1m176/176\u001b[0m \u001b[32m━━━━━━━━━━━━━━━━━━━━\u001b[0m\u001b[37m\u001b[0m \u001b[1m142s\u001b[0m 784ms/step - accuracy: 0.7645 - loss: 0.7733 - top-5-accuracy: 0.9600 - val_accuracy: 0.5120 - val_loss: 2.1376 - val_top-5-accuracy: 0.7928\n",
            "Epoch 62/100\n",
            "\u001b[1m176/176\u001b[0m \u001b[32m━━━━━━━━━━━━━━━━━━━━\u001b[0m\u001b[37m\u001b[0m \u001b[1m142s\u001b[0m 785ms/step - accuracy: 0.7688 - loss: 0.7621 - top-5-accuracy: 0.9596 - val_accuracy: 0.5186 - val_loss: 2.0940 - val_top-5-accuracy: 0.7892\n",
            "Epoch 63/100\n",
            "\u001b[1m176/176\u001b[0m \u001b[32m━━━━━━━━━━━━━━━━━━━━\u001b[0m\u001b[37m\u001b[0m \u001b[1m142s\u001b[0m 784ms/step - accuracy: 0.7713 - loss: 0.7543 - top-5-accuracy: 0.9597 - val_accuracy: 0.5116 - val_loss: 2.1195 - val_top-5-accuracy: 0.7886\n",
            "Epoch 64/100\n",
            "\u001b[1m176/176\u001b[0m \u001b[32m━━━━━━━━━━━━━━━━━━━━\u001b[0m\u001b[37m\u001b[0m \u001b[1m142s\u001b[0m 784ms/step - accuracy: 0.7779 - loss: 0.7367 - top-5-accuracy: 0.9625 - val_accuracy: 0.5176 - val_loss: 2.1438 - val_top-5-accuracy: 0.7802\n",
            "Epoch 65/100\n",
            "\u001b[1m176/176\u001b[0m \u001b[32m━━━━━━━━━━━━━━━━━━━━\u001b[0m\u001b[37m\u001b[0m \u001b[1m154s\u001b[0m 854ms/step - accuracy: 0.7811 - loss: 0.7204 - top-5-accuracy: 0.9634 - val_accuracy: 0.5218 - val_loss: 2.0869 - val_top-5-accuracy: 0.7922\n",
            "Epoch 66/100\n",
            "\u001b[1m176/176\u001b[0m \u001b[32m━━━━━━━━━━━━━━━━━━━━\u001b[0m\u001b[37m\u001b[0m \u001b[1m190s\u001b[0m 788ms/step - accuracy: 0.7847 - loss: 0.7061 - top-5-accuracy: 0.9650 - val_accuracy: 0.5136 - val_loss: 2.1322 - val_top-5-accuracy: 0.7920\n",
            "Epoch 67/100\n",
            "\u001b[1m176/176\u001b[0m \u001b[32m━━━━━━━━━━━━━━━━━━━━\u001b[0m\u001b[37m\u001b[0m \u001b[1m141s\u001b[0m 786ms/step - accuracy: 0.7842 - loss: 0.7002 - top-5-accuracy: 0.9666 - val_accuracy: 0.5216 - val_loss: 2.1620 - val_top-5-accuracy: 0.7848\n",
            "Epoch 68/100\n",
            "\u001b[1m176/176\u001b[0m \u001b[32m━━━━━━━━━━━━━━━━━━━━\u001b[0m\u001b[37m\u001b[0m \u001b[1m150s\u001b[0m 831ms/step - accuracy: 0.7866 - loss: 0.6942 - top-5-accuracy: 0.9679 - val_accuracy: 0.5228 - val_loss: 2.0978 - val_top-5-accuracy: 0.7886\n",
            "Epoch 69/100\n",
            "\u001b[1m176/176\u001b[0m \u001b[32m━━━━━━━━━━━━━━━━━━━━\u001b[0m\u001b[37m\u001b[0m \u001b[1m194s\u001b[0m 789ms/step - accuracy: 0.7947 - loss: 0.6815 - top-5-accuracy: 0.9679 - val_accuracy: 0.5140 - val_loss: 2.0945 - val_top-5-accuracy: 0.7840\n",
            "Epoch 70/100\n",
            "\u001b[1m176/176\u001b[0m \u001b[32m━━━━━━━━━━━━━━━━━━━━\u001b[0m\u001b[37m\u001b[0m \u001b[1m141s\u001b[0m 785ms/step - accuracy: 0.7924 - loss: 0.6799 - top-5-accuracy: 0.9687 - val_accuracy: 0.5192 - val_loss: 2.1158 - val_top-5-accuracy: 0.7918\n",
            "Epoch 71/100\n",
            "\u001b[1m176/176\u001b[0m \u001b[32m━━━━━━━━━━━━━━━━━━━━\u001b[0m\u001b[37m\u001b[0m \u001b[1m138s\u001b[0m 784ms/step - accuracy: 0.7948 - loss: 0.6789 - top-5-accuracy: 0.9677 - val_accuracy: 0.5174 - val_loss: 2.1049 - val_top-5-accuracy: 0.7890\n",
            "Epoch 72/100\n",
            "\u001b[1m176/176\u001b[0m \u001b[32m━━━━━━━━━━━━━━━━━━━━\u001b[0m\u001b[37m\u001b[0m \u001b[1m150s\u001b[0m 829ms/step - accuracy: 0.7956 - loss: 0.6661 - top-5-accuracy: 0.9700 - val_accuracy: 0.5300 - val_loss: 2.2106 - val_top-5-accuracy: 0.7908\n",
            "Epoch 73/100\n",
            "\u001b[1m176/176\u001b[0m \u001b[32m━━━━━━━━━━━━━━━━━━━━\u001b[0m\u001b[37m\u001b[0m \u001b[1m138s\u001b[0m 785ms/step - accuracy: 0.7984 - loss: 0.6572 - top-5-accuracy: 0.9693 - val_accuracy: 0.5200 - val_loss: 2.1402 - val_top-5-accuracy: 0.7884\n",
            "Epoch 74/100\n",
            "\u001b[1m176/176\u001b[0m \u001b[32m━━━━━━━━━━━━━━━━━━━━\u001b[0m\u001b[37m\u001b[0m \u001b[1m142s\u001b[0m 784ms/step - accuracy: 0.8012 - loss: 0.6530 - top-5-accuracy: 0.9697 - val_accuracy: 0.5272 - val_loss: 2.1558 - val_top-5-accuracy: 0.7968\n",
            "Epoch 75/100\n",
            "\u001b[1m134/176\u001b[0m \u001b[32m━━━━━━━━━━━━━━━\u001b[0m\u001b[37m━━━━━\u001b[0m \u001b[1m31s\u001b[0m 758ms/step - accuracy: 0.8028 - loss: 0.6436 - top-5-accuracy: 0.9706"
          ]
        }
      ]
    },
    {
      "cell_type": "code",
      "source": [],
      "metadata": {
        "id": "5Vv9ljBYj4Ip"
      },
      "execution_count": null,
      "outputs": []
    }
  ]
}