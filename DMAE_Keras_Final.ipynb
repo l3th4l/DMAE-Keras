{
 "cells": [
  {
   "cell_type": "code",
   "execution_count": 1,
   "metadata": {
    "tags": []
   },
   "outputs": [],
   "source": [
    "import os \n",
    "os.environ['http_proxy'] = 'http://proxy:80'\n",
    "os.environ['https_proxy'] = 'http://proxy:80'"
   ]
  },
  {
   "cell_type": "code",
   "execution_count": 2,
   "metadata": {
    "scrolled": true,
    "tags": []
   },
   "outputs": [
    {
     "name": "stdout",
     "output_type": "stream",
     "text": [
      "Defaulting to user installation because normal site-packages is not writeable\n",
      "Requirement already satisfied: tensorflow-empirical-privacy in /home/hpc/rlvl/rlvl115h/.local/lib/python3.11/site-packages (0.1.0)\n",
      "Requirement already satisfied: absl-py==1.*,>=1.0 in /home/hpc/rlvl/rlvl115h/.local/lib/python3.11/site-packages (from tensorflow-empirical-privacy) (1.4.0)\n",
      "Requirement already satisfied: immutabledict~=2.2 in /home/hpc/rlvl/rlvl115h/.local/lib/python3.11/site-packages (from tensorflow-empirical-privacy) (2.2.5)\n",
      "Requirement already satisfied: matplotlib~=3.3 in /home/hpc/rlvl/rlvl115h/.local/lib/python3.11/site-packages (from tensorflow-empirical-privacy) (3.9.2)\n",
      "Requirement already satisfied: numpy~=1.21 in /apps/jupyterhub/jh3.1.1-py3.11/envs/tensorflow-2.15.0/lib/python3.11/site-packages (from tensorflow-empirical-privacy) (1.26.4)\n",
      "Requirement already satisfied: pandas~=1.4 in /home/hpc/rlvl/rlvl115h/.local/lib/python3.11/site-packages (from tensorflow-empirical-privacy) (1.5.3)\n",
      "Requirement already satisfied: scikit-learn==1.*,>=1.0 in /home/hpc/rlvl/rlvl115h/.local/lib/python3.11/site-packages (from tensorflow-empirical-privacy) (1.5.1)\n",
      "Requirement already satisfied: scipy~=1.9 in /home/hpc/rlvl/rlvl115h/.local/lib/python3.11/site-packages (from tensorflow-empirical-privacy) (1.14.0)\n",
      "Requirement already satisfied: statsmodels==0.14.0 in /home/hpc/rlvl/rlvl115h/.local/lib/python3.11/site-packages (from tensorflow-empirical-privacy) (0.14.0)\n",
      "Requirement already satisfied: tensorflow~=2.4 in /home/hpc/rlvl/rlvl115h/.local/lib/python3.11/site-packages (from tensorflow-empirical-privacy) (2.15.0)\n",
      "Requirement already satisfied: tensorflow-privacy>=0.9.0 in /home/hpc/rlvl/rlvl115h/.local/lib/python3.11/site-packages (from tensorflow-empirical-privacy) (0.9.0)\n",
      "Requirement already satisfied: tf-models-official~=2.13 in /home/hpc/rlvl/rlvl115h/.local/lib/python3.11/site-packages (from tensorflow-empirical-privacy) (2.15.0)\n",
      "Requirement already satisfied: joblib>=1.2.0 in /home/hpc/rlvl/rlvl115h/.local/lib/python3.11/site-packages (from scikit-learn==1.*,>=1.0->tensorflow-empirical-privacy) (1.4.2)\n",
      "Requirement already satisfied: threadpoolctl>=3.1.0 in /home/hpc/rlvl/rlvl115h/.local/lib/python3.11/site-packages (from scikit-learn==1.*,>=1.0->tensorflow-empirical-privacy) (3.5.0)\n",
      "Requirement already satisfied: patsy>=0.5.2 in /home/hpc/rlvl/rlvl115h/.local/lib/python3.11/site-packages (from statsmodels==0.14.0->tensorflow-empirical-privacy) (0.5.6)\n",
      "Requirement already satisfied: packaging>=21.3 in /home/hpc/rlvl/rlvl115h/.local/lib/python3.11/site-packages (from statsmodels==0.14.0->tensorflow-empirical-privacy) (22.0)\n",
      "Requirement already satisfied: contourpy>=1.0.1 in /home/hpc/rlvl/rlvl115h/.local/lib/python3.11/site-packages (from matplotlib~=3.3->tensorflow-empirical-privacy) (1.2.1)\n",
      "Requirement already satisfied: cycler>=0.10 in /home/hpc/rlvl/rlvl115h/.local/lib/python3.11/site-packages (from matplotlib~=3.3->tensorflow-empirical-privacy) (0.12.1)\n",
      "Requirement already satisfied: fonttools>=4.22.0 in /home/hpc/rlvl/rlvl115h/.local/lib/python3.11/site-packages (from matplotlib~=3.3->tensorflow-empirical-privacy) (4.53.1)\n",
      "Requirement already satisfied: kiwisolver>=1.3.1 in /home/hpc/rlvl/rlvl115h/.local/lib/python3.11/site-packages (from matplotlib~=3.3->tensorflow-empirical-privacy) (1.4.5)\n",
      "Requirement already satisfied: pillow>=8 in /home/hpc/rlvl/rlvl115h/.local/lib/python3.11/site-packages (from matplotlib~=3.3->tensorflow-empirical-privacy) (10.4.0)\n",
      "Requirement already satisfied: pyparsing>=2.3.1 in /home/hpc/rlvl/rlvl115h/.local/lib/python3.11/site-packages (from matplotlib~=3.3->tensorflow-empirical-privacy) (3.1.2)\n",
      "Requirement already satisfied: python-dateutil>=2.7 in /apps/jupyterhub/jh3.1.1-py3.11/envs/tensorflow-2.15.0/lib/python3.11/site-packages (from matplotlib~=3.3->tensorflow-empirical-privacy) (2.9.0)\n",
      "Requirement already satisfied: pytz>=2020.1 in /home/hpc/rlvl/rlvl115h/.local/lib/python3.11/site-packages (from pandas~=1.4->tensorflow-empirical-privacy) (2024.1)\n",
      "Requirement already satisfied: astunparse>=1.6.0 in /home/hpc/rlvl/rlvl115h/.local/lib/python3.11/site-packages (from tensorflow~=2.4->tensorflow-empirical-privacy) (1.6.3)\n",
      "Requirement already satisfied: flatbuffers>=23.5.26 in /home/hpc/rlvl/rlvl115h/.local/lib/python3.11/site-packages (from tensorflow~=2.4->tensorflow-empirical-privacy) (24.3.25)\n",
      "Requirement already satisfied: gast!=0.5.0,!=0.5.1,!=0.5.2,>=0.2.1 in /home/hpc/rlvl/rlvl115h/.local/lib/python3.11/site-packages (from tensorflow~=2.4->tensorflow-empirical-privacy) (0.6.0)\n",
      "Requirement already satisfied: google-pasta>=0.1.1 in /home/hpc/rlvl/rlvl115h/.local/lib/python3.11/site-packages (from tensorflow~=2.4->tensorflow-empirical-privacy) (0.2.0)\n",
      "Requirement already satisfied: h5py>=2.9.0 in /home/hpc/rlvl/rlvl115h/.local/lib/python3.11/site-packages (from tensorflow~=2.4->tensorflow-empirical-privacy) (3.11.0)\n",
      "Requirement already satisfied: libclang>=13.0.0 in /home/hpc/rlvl/rlvl115h/.local/lib/python3.11/site-packages (from tensorflow~=2.4->tensorflow-empirical-privacy) (18.1.1)\n",
      "Requirement already satisfied: ml-dtypes~=0.2.0 in /home/hpc/rlvl/rlvl115h/.local/lib/python3.11/site-packages (from tensorflow~=2.4->tensorflow-empirical-privacy) (0.2.0)\n",
      "Requirement already satisfied: opt-einsum>=2.3.2 in /home/hpc/rlvl/rlvl115h/.local/lib/python3.11/site-packages (from tensorflow~=2.4->tensorflow-empirical-privacy) (3.3.0)\n",
      "Requirement already satisfied: protobuf!=4.21.0,!=4.21.1,!=4.21.2,!=4.21.3,!=4.21.4,!=4.21.5,<5.0.0dev,>=3.20.3 in /home/hpc/rlvl/rlvl115h/.local/lib/python3.11/site-packages (from tensorflow~=2.4->tensorflow-empirical-privacy) (4.25.4)\n",
      "Requirement already satisfied: setuptools in /apps/jupyterhub/jh3.1.1-py3.11/envs/tensorflow-2.15.0/lib/python3.11/site-packages (from tensorflow~=2.4->tensorflow-empirical-privacy) (69.1.1)\n",
      "Requirement already satisfied: six>=1.12.0 in /apps/jupyterhub/jh3.1.1-py3.11/envs/tensorflow-2.15.0/lib/python3.11/site-packages (from tensorflow~=2.4->tensorflow-empirical-privacy) (1.16.0)\n",
      "Requirement already satisfied: termcolor>=1.1.0 in /home/hpc/rlvl/rlvl115h/.local/lib/python3.11/site-packages (from tensorflow~=2.4->tensorflow-empirical-privacy) (2.4.0)\n",
      "Requirement already satisfied: typing-extensions>=3.6.6 in /home/hpc/rlvl/rlvl115h/.local/lib/python3.11/site-packages (from tensorflow~=2.4->tensorflow-empirical-privacy) (4.12.2)\n",
      "Requirement already satisfied: wrapt<1.15,>=1.11.0 in /home/hpc/rlvl/rlvl115h/.local/lib/python3.11/site-packages (from tensorflow~=2.4->tensorflow-empirical-privacy) (1.14.1)\n",
      "Requirement already satisfied: tensorflow-io-gcs-filesystem>=0.23.1 in /home/hpc/rlvl/rlvl115h/.local/lib/python3.11/site-packages (from tensorflow~=2.4->tensorflow-empirical-privacy) (0.37.1)\n",
      "Requirement already satisfied: grpcio<2.0,>=1.24.3 in /home/hpc/rlvl/rlvl115h/.local/lib/python3.11/site-packages (from tensorflow~=2.4->tensorflow-empirical-privacy) (1.65.4)\n",
      "Requirement already satisfied: tensorboard<2.16,>=2.15 in /home/hpc/rlvl/rlvl115h/.local/lib/python3.11/site-packages (from tensorflow~=2.4->tensorflow-empirical-privacy) (2.15.2)\n",
      "Requirement already satisfied: tensorflow-estimator<2.16,>=2.15.0 in /home/hpc/rlvl/rlvl115h/.local/lib/python3.11/site-packages (from tensorflow~=2.4->tensorflow-empirical-privacy) (2.15.0)\n",
      "Requirement already satisfied: keras<2.16,>=2.15.0 in /home/hpc/rlvl/rlvl115h/.local/lib/python3.11/site-packages (from tensorflow~=2.4->tensorflow-empirical-privacy) (2.15.0)\n",
      "Requirement already satisfied: dm-tree==0.1.8 in /home/hpc/rlvl/rlvl115h/.local/lib/python3.11/site-packages (from tensorflow-privacy>=0.9.0->tensorflow-empirical-privacy) (0.1.8)\n",
      "Requirement already satisfied: dp-accounting==0.4.3 in /home/hpc/rlvl/rlvl115h/.local/lib/python3.11/site-packages (from tensorflow-privacy>=0.9.0->tensorflow-empirical-privacy) (0.4.3)\n",
      "Requirement already satisfied: tensorflow-probability~=0.22.0 in /home/hpc/rlvl/rlvl115h/.local/lib/python3.11/site-packages (from tensorflow-privacy>=0.9.0->tensorflow-empirical-privacy) (0.22.1)\n",
      "Requirement already satisfied: attrs>=22 in /apps/jupyterhub/jh3.1.1-py3.11/envs/tensorflow-2.15.0/lib/python3.11/site-packages (from dp-accounting==0.4.3->tensorflow-privacy>=0.9.0->tensorflow-empirical-privacy) (23.2.0)\n",
      "Requirement already satisfied: mpmath~=1.2 in /home/hpc/rlvl/rlvl115h/.local/lib/python3.11/site-packages (from dp-accounting==0.4.3->tensorflow-privacy>=0.9.0->tensorflow-empirical-privacy) (1.3.0)\n",
      "Requirement already satisfied: Cython in /home/hpc/rlvl/rlvl115h/.local/lib/python3.11/site-packages (from tf-models-official~=2.13->tensorflow-empirical-privacy) (3.0.11)\n",
      "Requirement already satisfied: gin-config in /home/hpc/rlvl/rlvl115h/.local/lib/python3.11/site-packages (from tf-models-official~=2.13->tensorflow-empirical-privacy) (0.5.0)\n",
      "Requirement already satisfied: google-api-python-client>=1.6.7 in /home/hpc/rlvl/rlvl115h/.local/lib/python3.11/site-packages (from tf-models-official~=2.13->tensorflow-empirical-privacy) (2.142.0)\n",
      "Requirement already satisfied: kaggle>=1.3.9 in /home/hpc/rlvl/rlvl115h/.local/lib/python3.11/site-packages (from tf-models-official~=2.13->tensorflow-empirical-privacy) (1.6.17)\n",
      "Requirement already satisfied: oauth2client in /home/hpc/rlvl/rlvl115h/.local/lib/python3.11/site-packages (from tf-models-official~=2.13->tensorflow-empirical-privacy) (4.1.3)\n",
      "Requirement already satisfied: opencv-python-headless in /home/hpc/rlvl/rlvl115h/.local/lib/python3.11/site-packages (from tf-models-official~=2.13->tensorflow-empirical-privacy) (4.10.0.84)\n",
      "Requirement already satisfied: psutil>=5.4.3 in /apps/jupyterhub/jh3.1.1-py3.11/envs/tensorflow-2.15.0/lib/python3.11/site-packages (from tf-models-official~=2.13->tensorflow-empirical-privacy) (5.9.8)\n",
      "Requirement already satisfied: py-cpuinfo>=3.3.0 in /home/hpc/rlvl/rlvl115h/.local/lib/python3.11/site-packages (from tf-models-official~=2.13->tensorflow-empirical-privacy) (9.0.0)\n",
      "Requirement already satisfied: pycocotools in /home/hpc/rlvl/rlvl115h/.local/lib/python3.11/site-packages (from tf-models-official~=2.13->tensorflow-empirical-privacy) (2.0.8)\n",
      "Requirement already satisfied: pyyaml>=6.0.0 in /home/hpc/rlvl/rlvl115h/.local/lib/python3.11/site-packages (from tf-models-official~=2.13->tensorflow-empirical-privacy) (6.0.2)\n",
      "Requirement already satisfied: sacrebleu in /home/hpc/rlvl/rlvl115h/.local/lib/python3.11/site-packages (from tf-models-official~=2.13->tensorflow-empirical-privacy) (2.4.3)\n",
      "Requirement already satisfied: sentencepiece in /home/hpc/rlvl/rlvl115h/.local/lib/python3.11/site-packages (from tf-models-official~=2.13->tensorflow-empirical-privacy) (0.2.0)\n",
      "Requirement already satisfied: seqeval in /home/hpc/rlvl/rlvl115h/.local/lib/python3.11/site-packages (from tf-models-official~=2.13->tensorflow-empirical-privacy) (1.2.2)\n",
      "Requirement already satisfied: tensorflow-datasets in /home/hpc/rlvl/rlvl115h/.local/lib/python3.11/site-packages (from tf-models-official~=2.13->tensorflow-empirical-privacy) (4.9.6)\n",
      "Requirement already satisfied: tensorflow-hub>=0.6.0 in /home/hpc/rlvl/rlvl115h/.local/lib/python3.11/site-packages (from tf-models-official~=2.13->tensorflow-empirical-privacy) (0.16.1)\n",
      "Requirement already satisfied: tensorflow-model-optimization>=0.4.1 in /home/hpc/rlvl/rlvl115h/.local/lib/python3.11/site-packages (from tf-models-official~=2.13->tensorflow-empirical-privacy) (0.8.0)\n",
      "Requirement already satisfied: tensorflow-text~=2.15.0 in /home/hpc/rlvl/rlvl115h/.local/lib/python3.11/site-packages (from tf-models-official~=2.13->tensorflow-empirical-privacy) (2.15.0)\n",
      "Requirement already satisfied: tf-slim>=1.1.0 in /home/hpc/rlvl/rlvl115h/.local/lib/python3.11/site-packages (from tf-models-official~=2.13->tensorflow-empirical-privacy) (1.1.0)\n",
      "Requirement already satisfied: wheel<1.0,>=0.23.0 in /apps/jupyterhub/jh3.1.1-py3.11/envs/tensorflow-2.15.0/lib/python3.11/site-packages (from astunparse>=1.6.0->tensorflow~=2.4->tensorflow-empirical-privacy) (0.42.0)\n",
      "Requirement already satisfied: httplib2<1.dev0,>=0.19.0 in /home/hpc/rlvl/rlvl115h/.local/lib/python3.11/site-packages (from google-api-python-client>=1.6.7->tf-models-official~=2.13->tensorflow-empirical-privacy) (0.22.0)\n",
      "Requirement already satisfied: google-auth!=2.24.0,!=2.25.0,<3.0.0.dev0,>=1.32.0 in /home/hpc/rlvl/rlvl115h/.local/lib/python3.11/site-packages (from google-api-python-client>=1.6.7->tf-models-official~=2.13->tensorflow-empirical-privacy) (2.34.0)\n",
      "Requirement already satisfied: google-auth-httplib2<1.0.0,>=0.2.0 in /home/hpc/rlvl/rlvl115h/.local/lib/python3.11/site-packages (from google-api-python-client>=1.6.7->tf-models-official~=2.13->tensorflow-empirical-privacy) (0.2.0)\n",
      "Requirement already satisfied: google-api-core!=2.0.*,!=2.1.*,!=2.2.*,!=2.3.0,<3.0.0.dev0,>=1.31.5 in /home/hpc/rlvl/rlvl115h/.local/lib/python3.11/site-packages (from google-api-python-client>=1.6.7->tf-models-official~=2.13->tensorflow-empirical-privacy) (2.19.1)\n",
      "Requirement already satisfied: uritemplate<5,>=3.0.1 in /home/hpc/rlvl/rlvl115h/.local/lib/python3.11/site-packages (from google-api-python-client>=1.6.7->tf-models-official~=2.13->tensorflow-empirical-privacy) (4.1.1)\n",
      "Requirement already satisfied: certifi>=2023.7.22 in /home/hpc/rlvl/rlvl115h/.local/lib/python3.11/site-packages (from kaggle>=1.3.9->tf-models-official~=2.13->tensorflow-empirical-privacy) (2024.7.4)\n",
      "Requirement already satisfied: requests in /apps/jupyterhub/jh3.1.1-py3.11/envs/tensorflow-2.15.0/lib/python3.11/site-packages (from kaggle>=1.3.9->tf-models-official~=2.13->tensorflow-empirical-privacy) (2.31.0)\n",
      "Requirement already satisfied: tqdm in /home/hpc/rlvl/rlvl115h/.local/lib/python3.11/site-packages (from kaggle>=1.3.9->tf-models-official~=2.13->tensorflow-empirical-privacy) (4.66.5)\n",
      "Requirement already satisfied: python-slugify in /home/hpc/rlvl/rlvl115h/.local/lib/python3.11/site-packages (from kaggle>=1.3.9->tf-models-official~=2.13->tensorflow-empirical-privacy) (8.0.4)\n",
      "Requirement already satisfied: urllib3 in /apps/jupyterhub/jh3.1.1-py3.11/envs/tensorflow-2.15.0/lib/python3.11/site-packages (from kaggle>=1.3.9->tf-models-official~=2.13->tensorflow-empirical-privacy) (2.2.1)\n",
      "Requirement already satisfied: bleach in /home/hpc/rlvl/rlvl115h/.local/lib/python3.11/site-packages (from kaggle>=1.3.9->tf-models-official~=2.13->tensorflow-empirical-privacy) (6.1.0)\n",
      "Requirement already satisfied: google-auth-oauthlib<2,>=0.5 in /home/hpc/rlvl/rlvl115h/.local/lib/python3.11/site-packages (from tensorboard<2.16,>=2.15->tensorflow~=2.4->tensorflow-empirical-privacy) (1.2.1)\n",
      "Requirement already satisfied: markdown>=2.6.8 in /home/hpc/rlvl/rlvl115h/.local/lib/python3.11/site-packages (from tensorboard<2.16,>=2.15->tensorflow~=2.4->tensorflow-empirical-privacy) (3.6)\n",
      "Requirement already satisfied: tensorboard-data-server<0.8.0,>=0.7.0 in /home/hpc/rlvl/rlvl115h/.local/lib/python3.11/site-packages (from tensorboard<2.16,>=2.15->tensorflow~=2.4->tensorflow-empirical-privacy) (0.7.2)\n",
      "Requirement already satisfied: werkzeug>=1.0.1 in /home/hpc/rlvl/rlvl115h/.local/lib/python3.11/site-packages (from tensorboard<2.16,>=2.15->tensorflow~=2.4->tensorflow-empirical-privacy) (3.0.3)\n",
      "Requirement already satisfied: tf-keras>=2.14.1 in /home/hpc/rlvl/rlvl115h/.local/lib/python3.11/site-packages (from tensorflow-hub>=0.6.0->tf-models-official~=2.13->tensorflow-empirical-privacy) (2.15.1)\n",
      "Requirement already satisfied: decorator in /apps/jupyterhub/jh3.1.1-py3.11/envs/tensorflow-2.15.0/lib/python3.11/site-packages (from tensorflow-probability~=0.22.0->tensorflow-privacy>=0.9.0->tensorflow-empirical-privacy) (5.1.1)\n",
      "Requirement already satisfied: cloudpickle>=1.3 in /home/hpc/rlvl/rlvl115h/.local/lib/python3.11/site-packages (from tensorflow-probability~=0.22.0->tensorflow-privacy>=0.9.0->tensorflow-empirical-privacy) (3.0.0)\n",
      "Requirement already satisfied: pyasn1>=0.1.7 in /home/hpc/rlvl/rlvl115h/.local/lib/python3.11/site-packages (from oauth2client->tf-models-official~=2.13->tensorflow-empirical-privacy) (0.6.0)\n",
      "Requirement already satisfied: pyasn1-modules>=0.0.5 in /home/hpc/rlvl/rlvl115h/.local/lib/python3.11/site-packages (from oauth2client->tf-models-official~=2.13->tensorflow-empirical-privacy) (0.4.0)\n",
      "Requirement already satisfied: rsa>=3.1.4 in /home/hpc/rlvl/rlvl115h/.local/lib/python3.11/site-packages (from oauth2client->tf-models-official~=2.13->tensorflow-empirical-privacy) (4.9)\n",
      "Requirement already satisfied: portalocker in /home/hpc/rlvl/rlvl115h/.local/lib/python3.11/site-packages (from sacrebleu->tf-models-official~=2.13->tensorflow-empirical-privacy) (2.10.1)\n",
      "Requirement already satisfied: regex in /home/hpc/rlvl/rlvl115h/.local/lib/python3.11/site-packages (from sacrebleu->tf-models-official~=2.13->tensorflow-empirical-privacy) (2024.7.24)\n",
      "Requirement already satisfied: tabulate>=0.8.9 in /home/hpc/rlvl/rlvl115h/.local/lib/python3.11/site-packages (from sacrebleu->tf-models-official~=2.13->tensorflow-empirical-privacy) (0.9.0)\n",
      "Requirement already satisfied: colorama in /home/hpc/rlvl/rlvl115h/.local/lib/python3.11/site-packages (from sacrebleu->tf-models-official~=2.13->tensorflow-empirical-privacy) (0.4.6)\n",
      "Requirement already satisfied: lxml in /home/hpc/rlvl/rlvl115h/.local/lib/python3.11/site-packages (from sacrebleu->tf-models-official~=2.13->tensorflow-empirical-privacy) (5.3.0)\n",
      "Requirement already satisfied: click in /home/hpc/rlvl/rlvl115h/.local/lib/python3.11/site-packages (from tensorflow-datasets->tf-models-official~=2.13->tensorflow-empirical-privacy) (8.1.7)\n",
      "Requirement already satisfied: promise in /home/hpc/rlvl/rlvl115h/.local/lib/python3.11/site-packages (from tensorflow-datasets->tf-models-official~=2.13->tensorflow-empirical-privacy) (2.3)\n",
      "Requirement already satisfied: pyarrow in /home/hpc/rlvl/rlvl115h/.local/lib/python3.11/site-packages (from tensorflow-datasets->tf-models-official~=2.13->tensorflow-empirical-privacy) (17.0.0)\n",
      "Requirement already satisfied: simple-parsing in /home/hpc/rlvl/rlvl115h/.local/lib/python3.11/site-packages (from tensorflow-datasets->tf-models-official~=2.13->tensorflow-empirical-privacy) (0.1.5)\n",
      "Requirement already satisfied: tensorflow-metadata in /home/hpc/rlvl/rlvl115h/.local/lib/python3.11/site-packages (from tensorflow-datasets->tf-models-official~=2.13->tensorflow-empirical-privacy) (1.15.0)\n",
      "Requirement already satisfied: toml in /home/hpc/rlvl/rlvl115h/.local/lib/python3.11/site-packages (from tensorflow-datasets->tf-models-official~=2.13->tensorflow-empirical-privacy) (0.10.2)\n",
      "Requirement already satisfied: array-record>=0.5.0 in /home/hpc/rlvl/rlvl115h/.local/lib/python3.11/site-packages (from tensorflow-datasets->tf-models-official~=2.13->tensorflow-empirical-privacy) (0.5.1)\n",
      "Requirement already satisfied: etils>=1.9.1 in /home/hpc/rlvl/rlvl115h/.local/lib/python3.11/site-packages (from etils[enp,epath,epy,etree]>=1.9.1; python_version >= \"3.11\"->tensorflow-datasets->tf-models-official~=2.13->tensorflow-empirical-privacy) (1.9.2)\n",
      "Requirement already satisfied: fsspec in /home/hpc/rlvl/rlvl115h/.local/lib/python3.11/site-packages (from etils[enp,epath,epy,etree]>=1.9.1; python_version >= \"3.11\"->tensorflow-datasets->tf-models-official~=2.13->tensorflow-empirical-privacy) (2024.6.1)\n",
      "Requirement already satisfied: importlib_resources in /home/hpc/rlvl/rlvl115h/.local/lib/python3.11/site-packages (from etils[enp,epath,epy,etree]>=1.9.1; python_version >= \"3.11\"->tensorflow-datasets->tf-models-official~=2.13->tensorflow-empirical-privacy) (6.4.4)\n",
      "Requirement already satisfied: zipp in /apps/jupyterhub/jh3.1.1-py3.11/envs/tensorflow-2.15.0/lib/python3.11/site-packages (from etils[enp,epath,epy,etree]>=1.9.1; python_version >= \"3.11\"->tensorflow-datasets->tf-models-official~=2.13->tensorflow-empirical-privacy) (3.17.0)\n",
      "Requirement already satisfied: googleapis-common-protos<2.0.dev0,>=1.56.2 in /home/hpc/rlvl/rlvl115h/.local/lib/python3.11/site-packages (from google-api-core!=2.0.*,!=2.1.*,!=2.2.*,!=2.3.0,<3.0.0.dev0,>=1.31.5->google-api-python-client>=1.6.7->tf-models-official~=2.13->tensorflow-empirical-privacy) (1.64.0)\n",
      "Requirement already satisfied: proto-plus<2.0.0dev,>=1.22.3 in /home/hpc/rlvl/rlvl115h/.local/lib/python3.11/site-packages (from google-api-core!=2.0.*,!=2.1.*,!=2.2.*,!=2.3.0,<3.0.0.dev0,>=1.31.5->google-api-python-client>=1.6.7->tf-models-official~=2.13->tensorflow-empirical-privacy) (1.24.0)\n",
      "Requirement already satisfied: cachetools<6.0,>=2.0.0 in /home/hpc/rlvl/rlvl115h/.local/lib/python3.11/site-packages (from google-auth!=2.24.0,!=2.25.0,<3.0.0.dev0,>=1.32.0->google-api-python-client>=1.6.7->tf-models-official~=2.13->tensorflow-empirical-privacy) (5.5.0)\n",
      "Requirement already satisfied: requests-oauthlib>=0.7.0 in /home/hpc/rlvl/rlvl115h/.local/lib/python3.11/site-packages (from google-auth-oauthlib<2,>=0.5->tensorboard<2.16,>=2.15->tensorflow~=2.4->tensorflow-empirical-privacy) (2.0.0)\n",
      "Requirement already satisfied: charset-normalizer<4,>=2 in /apps/jupyterhub/jh3.1.1-py3.11/envs/tensorflow-2.15.0/lib/python3.11/site-packages (from requests->kaggle>=1.3.9->tf-models-official~=2.13->tensorflow-empirical-privacy) (3.3.2)\n",
      "Requirement already satisfied: idna<4,>=2.5 in /apps/jupyterhub/jh3.1.1-py3.11/envs/tensorflow-2.15.0/lib/python3.11/site-packages (from requests->kaggle>=1.3.9->tf-models-official~=2.13->tensorflow-empirical-privacy) (3.6)\n",
      "Requirement already satisfied: MarkupSafe>=2.1.1 in /apps/jupyterhub/jh3.1.1-py3.11/envs/tensorflow-2.15.0/lib/python3.11/site-packages (from werkzeug>=1.0.1->tensorboard<2.16,>=2.15->tensorflow~=2.4->tensorflow-empirical-privacy) (2.1.5)\n",
      "Requirement already satisfied: webencodings in /home/hpc/rlvl/rlvl115h/.local/lib/python3.11/site-packages (from bleach->kaggle>=1.3.9->tf-models-official~=2.13->tensorflow-empirical-privacy) (0.5.1)\n",
      "Requirement already satisfied: text-unidecode>=1.3 in /home/hpc/rlvl/rlvl115h/.local/lib/python3.11/site-packages (from python-slugify->kaggle>=1.3.9->tf-models-official~=2.13->tensorflow-empirical-privacy) (1.3)\n",
      "Requirement already satisfied: docstring-parser~=0.15 in /home/hpc/rlvl/rlvl115h/.local/lib/python3.11/site-packages (from simple-parsing->tensorflow-datasets->tf-models-official~=2.13->tensorflow-empirical-privacy) (0.16)\n",
      "Requirement already satisfied: oauthlib>=3.0.0 in /apps/jupyterhub/jh3.1.1-py3.11/envs/tensorflow-2.15.0/lib/python3.11/site-packages (from requests-oauthlib>=0.7.0->google-auth-oauthlib<2,>=0.5->tensorboard<2.16,>=2.15->tensorflow~=2.4->tensorflow-empirical-privacy) (3.2.2)\n",
      "Defaulting to user installation because normal site-packages is not writeable\n",
      "Requirement already satisfied: tensorflow-estimator==2.15.0 in /home/hpc/rlvl/rlvl115h/.local/lib/python3.11/site-packages (2.15.0)\n"
     ]
    }
   ],
   "source": [
    "!pip install tensorflow-empirical-privacy\n",
    "!pip install --upgrade tensorflow-estimator==2.15.0"
   ]
  },
  {
   "cell_type": "code",
   "execution_count": null,
   "metadata": {},
   "outputs": [],
   "source": []
  },
  {
   "cell_type": "code",
   "execution_count": 3,
   "metadata": {
    "id": "vJMiurZw83aO",
    "tags": []
   },
   "outputs": [
    {
     "name": "stderr",
     "output_type": "stream",
     "text": [
      "2024-09-07 21:59:26.143067: E external/local_xla/xla/stream_executor/cuda/cuda_dnn.cc:9261] Unable to register cuDNN factory: Attempting to register factory for plugin cuDNN when one has already been registered\n",
      "2024-09-07 21:59:26.143247: E external/local_xla/xla/stream_executor/cuda/cuda_fft.cc:607] Unable to register cuFFT factory: Attempting to register factory for plugin cuFFT when one has already been registered\n",
      "2024-09-07 21:59:26.384633: E external/local_xla/xla/stream_executor/cuda/cuda_blas.cc:1515] Unable to register cuBLAS factory: Attempting to register factory for plugin cuBLAS when one has already been registered\n",
      "2024-09-07 21:59:26.872948: I tensorflow/core/platform/cpu_feature_guard.cc:182] This TensorFlow binary is optimized to use available CPU instructions in performance-critical operations.\n",
      "To enable the following instructions: AVX2 FMA, in other operations, rebuild TensorFlow with the appropriate compiler flags.\n",
      "2024-09-07 21:59:31.649918: W tensorflow/compiler/tf2tensorrt/utils/py_utils.cc:38] TF-TRT Warning: Could not find TensorRT\n"
     ]
    }
   ],
   "source": [
    "import tensorflow as tf\n",
    "from tensorflow import keras\n",
    "from tensorflow.keras import layers as L\n",
    "#from tensorflow.keras import ops\n",
    "\n",
    "import numpy as np\n",
    "import matplotlib.pyplot as plt\n",
    "import random"
   ]
  },
  {
   "cell_type": "code",
   "execution_count": null,
   "metadata": {},
   "outputs": [],
   "source": [
    "from modelblocks.Augmentation import get_train_augmentation_model, get_test_augmentation_model, data_augmentation\n",
    "from modelblocks.Blocks import Patches, PatchEncoder"
   ]
  },
  {
   "cell_type": "code",
   "execution_count": 4,
   "metadata": {
    "id": "3yzbxs3w9ne-",
    "tags": []
   },
   "outputs": [],
   "source": [
    "BUFFER_SIZE = 1024\n",
    "BATCH_SIZE = 256\n",
    "INPUT_SHAPE = (32, 32, 3)\n",
    "AUTO = tf.data.AUTOTUNE"
   ]
  },
  {
   "cell_type": "markdown",
   "metadata": {
    "id": "FMsFYR2gFgXH"
   },
   "source": [
    "**Loading the dataset**"
   ]
  },
  {
   "cell_type": "code",
   "execution_count": 5,
   "metadata": {
    "colab": {
     "base_uri": "https://localhost:8080/"
    },
    "id": "5tL4yVT0-Gwr",
    "outputId": "64ea5e08-5273-4a16-d27d-f35ec4e68bc1",
    "tags": []
   },
   "outputs": [
    {
     "name": "stdout",
     "output_type": "stream",
     "text": [
      "Training samples: 50000\n",
      "Testing samples: 10000\n"
     ]
    },
    {
     "name": "stderr",
     "output_type": "stream",
     "text": [
      "2024-09-07 21:59:45.699643: I tensorflow/core/common_runtime/gpu/gpu_device.cc:1929] Created device /job:localhost/replica:0/task:0/device:GPU:0 with 10525 MB memory:  -> device: 0, name: NVIDIA GeForce GTX 1080 Ti, pci bus id: 0000:02:00.0, compute capability: 6.1\n",
      "2024-09-07 21:59:45.700387: I tensorflow/core/common_runtime/gpu/gpu_device.cc:1929] Created device /job:localhost/replica:0/task:0/device:GPU:1 with 10525 MB memory:  -> device: 1, name: NVIDIA GeForce GTX 1080 Ti, pci bus id: 0000:83:00.0, compute capability: 6.1\n"
     ]
    }
   ],
   "source": [
    "(x_train, y_train), (x_valid, y_valid) = keras.datasets.cifar100.load_data()\n",
    "print(f\"Training samples: {len(x_train)}\")\n",
    "print(f\"Testing samples: {len(x_valid)}\")\n",
    "\n",
    "train_ds = tf.data.Dataset.from_tensor_slices(x_train)\n",
    "train_ds = train_ds.shuffle(BUFFER_SIZE).batch(BATCH_SIZE).prefetch(AUTO)\n",
    "\n",
    "valid_ds = tf.data.Dataset.from_tensor_slices(x_valid)\n",
    "valid_ds = valid_ds.batch(BATCH_SIZE).prefetch(AUTO)"
   ]
  },
  {
   "cell_type": "code",
   "execution_count": 6,
   "metadata": {
    "id": "vIq7YzLQFZou",
    "tags": []
   },
   "outputs": [],
   "source": [
    "#The original DMAE Paper mentions that augmentation does not provide any significant performance improvement\n",
    "#But we'll still be adding it since that makes the model more robust"
   ]
  },
  {
   "cell_type": "code",
   "execution_count": 7,
   "metadata": {
    "id": "8bqwdDm_vaPM",
    "tags": []
   },
   "outputs": [],
   "source": [
    "IMAGE_SIZE = 72\n",
    "PATCH_SIZE = 6\n",
    "NUM_PATCHES = (IMAGE_SIZE // PATCH_SIZE) ** 2\n",
    "MASK_PROPORTION = 0.75"
   ]
  },
  {
   "cell_type": "code",
   "execution_count": 8,
   "metadata": {
    "id": "J1OdtXZHu67i",
    "tags": []
   },
   "outputs": [],
   "source": [
    "def get_train_augmentation_model():\n",
    "    model = keras.Sequential(\n",
    "        [\n",
    "            L.Rescaling(1 / 255.0),\n",
    "            L.Resizing(INPUT_SHAPE[0] + 20, INPUT_SHAPE[0] + 20),\n",
    "            L.RandomCrop(IMAGE_SIZE, IMAGE_SIZE),\n",
    "            L.RandomFlip(\"horizontal\"),\n",
    "        ],\n",
    "        name=\"train_data_augmentation\",\n",
    "    )\n",
    "    return model\n",
    "\n",
    "\n",
    "def get_test_augmentation_model():\n",
    "    model = keras.Sequential(\n",
    "        [L.Rescaling(1 / 255.0), L.Resizing(IMAGE_SIZE, IMAGE_SIZE),],\n",
    "        name=\"test_data_augmentation\",\n",
    "    )\n",
    "    return model"
   ]
  },
  {
   "cell_type": "markdown",
   "metadata": {
    "id": "evtzPEfKwHcO"
   },
   "source": [
    "**Divide image into patches**"
   ]
  },
  {
   "cell_type": "code",
   "execution_count": 9,
   "metadata": {
    "id": "Cv4Yf2rwu8eF",
    "tags": []
   },
   "outputs": [],
   "source": [
    "class Patches(L.Layer):\n",
    "    def __init__(self, patch_size=PATCH_SIZE, **kwargs):\n",
    "        super().__init__(**kwargs)\n",
    "        self.patch_size = patch_size\n",
    "        self.resize = L.Reshape((-1, patch_size * patch_size * 3))\n",
    "\n",
    "    def call(self, images):\n",
    "        patches = tf.image.extract_patches(\n",
    "            images=images,\n",
    "            sizes=[1, self.patch_size, self.patch_size, 1],\n",
    "            strides=[1, self.patch_size, self.patch_size, 1],\n",
    "            rates=[1, 1, 1, 1],\n",
    "            padding=\"VALID\",\n",
    "        )\n",
    "        patches = self.resize(patches)\n",
    "        return patches\n",
    "\n",
    "    def show_patched_image(self, images, patches):\n",
    "        idx = np.random.choice(patches.shape[0])\n",
    "        print(f\"Index selected: {idx}.\")\n",
    "\n",
    "        plt.figure(figsize=(4, 4))\n",
    "        plt.imshow(keras.utils.array_to_img(images[idx]))\n",
    "        plt.suptitle('Original Image')\n",
    "        plt.axis(\"off\")\n",
    "        plt.show()\n",
    "\n",
    "        n = int(np.sqrt(patches.shape[1]))\n",
    "        plt.figure(figsize=(4, 4))\n",
    "        plt.suptitle('Patches')\n",
    "        for i, patch in enumerate(patches[idx]):\n",
    "            ax = plt.subplot(n, n, i + 1)\n",
    "            patch_img = tf.reshape(patch, (self.patch_size, self.patch_size, 3))\n",
    "            plt.imshow(keras.utils.img_to_array(patch_img))\n",
    "            plt.axis(\"off\")\n",
    "        plt.show()\n",
    "\n",
    "        return idx\n",
    "\n",
    "    def reconstruct_from_patch(self, patch):\n",
    "        num_patches = patch.shape[0]\n",
    "        n = int(np.sqrt(num_patches))\n",
    "        patch = tf.reshape(patch, (num_patches, self.patch_size, self.patch_size, 3))\n",
    "        rows = tf.split(patch, n, axis=0)\n",
    "        rows = [tf.concat(tf.unstack(x), axis=1) for x in rows]\n",
    "        reconstructed = tf.concat(rows, axis=0)\n",
    "        return reconstructed"
   ]
  },
  {
   "cell_type": "code",
   "execution_count": 10,
   "metadata": {
    "colab": {
     "base_uri": "https://localhost:8080/",
     "height": 770
    },
    "id": "TOUr57j2wono",
    "outputId": "952a292a-ffeb-4262-d3d8-4d4b5a1e5d43",
    "tags": []
   },
   "outputs": [
    {
     "name": "stdout",
     "output_type": "stream",
     "text": [
      "Index selected: 135.\n"
     ]
    },
    {
     "data": {
      "image/png": "[encoded data removed]",
      "text/plain": [
       "<Figure size 400x400 with 1 Axes>"
      ]
     },
     "metadata": {},
     "output_type": "display_data"
    },
    {
     "data": {
      "image/png": "[encoded data removed]",
      "text/plain": [
       "<Figure size 400x400 with 144 Axes>"
      ]
     },
     "metadata": {},
     "output_type": "display_data"
    }
   ],
   "source": [
    "image_batch = next(iter(train_ds))\n",
    "\n",
    "augmentation_model = get_train_augmentation_model()\n",
    "augmented_images = augmentation_model(image_batch)\n",
    "\n",
    "patch_layer = Patches()\n",
    "patches = patch_layer(images=augmented_images)\n",
    "random_index = patch_layer.show_patched_image(images=augmented_images, patches=patches)"
   ]
  },
  {
   "cell_type": "code",
   "execution_count": 11,
   "metadata": {
    "id": "AT2d7TGww9Cq",
    "tags": []
   },
   "outputs": [],
   "source": [
    "LAYER_NORM_EPS = 1e-6\n",
    "ENC_PROJECTION_DIM = 64\n",
    "DEC_PROJECTION_DIM = 48\n",
    "ENC_NUM_HEADS = 4\n",
    "ENC_LAYERS = 6\n",
    "DEC_NUM_HEADS = 4\n",
    "DEC_LAYERS = (\n",
    "    2\n",
    ")\n",
    "ENC_TRANSFORMER_UNITS = [\n",
    "    ENC_PROJECTION_DIM * 2,\n",
    "    ENC_PROJECTION_DIM,\n",
    "]\n",
    "DEC_TRANSFORMER_UNITS = [\n",
    "    DEC_PROJECTION_DIM * 2,\n",
    "    DEC_PROJECTION_DIM,\n",
    "]"
   ]
  },
  {
   "cell_type": "code",
   "execution_count": 12,
   "metadata": {
    "id": "5M7C7825xth1",
    "tags": []
   },
   "outputs": [],
   "source": [
    "EPOCHS = 100\n",
    "DOWNSTREAM_EPOCHS = 10"
   ]
  },
  {
   "cell_type": "markdown",
   "metadata": {
    "id": "UW6QldcZybUE"
   },
   "source": [
    "**Patch Encoder**"
   ]
  },
  {
   "cell_type": "code",
   "execution_count": 13,
   "metadata": {
    "id": "U_YAtpYJxwbj",
    "tags": []
   },
   "outputs": [],
   "source": [
    "class PatchEncoder(L.Layer):\n",
    "    def __init__(\n",
    "        self,\n",
    "        patch_size=PATCH_SIZE,\n",
    "        projection_dim=ENC_PROJECTION_DIM,\n",
    "        mask_proportion=MASK_PROPORTION,\n",
    "        downstream=False,\n",
    "        **kwargs,\n",
    "    ):\n",
    "        super().__init__(**kwargs)\n",
    "        self.patch_size = patch_size\n",
    "        self.projection_dim = projection_dim\n",
    "        self.mask_proportion = mask_proportion\n",
    "        self.downstream = downstream\n",
    "\n",
    "        self.mask_token = tf.Variable(\n",
    "            tf.random.normal([1, patch_size * patch_size * 3]), trainable=True\n",
    "        )\n",
    "\n",
    "    def build(self, input_shape):\n",
    "        (_, self.num_patches, self.patch_area) = input_shape\n",
    "        self.projection = L.Dense(units=self.projection_dim)\n",
    "        self.position_embedding = L.Embedding(\n",
    "            input_dim=self.num_patches, output_dim=self.projection_dim\n",
    "        )\n",
    "        self.num_mask = int(self.mask_proportion * self.num_patches)\n",
    "\n",
    "    def call(self, patches):\n",
    "        batch_size = tf.shape(patches)[0]\n",
    "        positions = tf.range(start=0, limit=self.num_patches, delta=1)\n",
    "        pos_embeddings = self.position_embedding(positions[tf.newaxis, ...])\n",
    "        pos_embeddings = tf.tile(\n",
    "            pos_embeddings, [batch_size, 1, 1]\n",
    "        )\n",
    "        patch_embeddings = (\n",
    "            self.projection(patches) + pos_embeddings\n",
    "        )\n",
    "        if self.downstream:\n",
    "            return patch_embeddings\n",
    "        else:\n",
    "            mask_indices, unmask_indices = self.get_random_indices(batch_size)\n",
    "            unmasked_embeddings = tf.gather(\n",
    "                patch_embeddings, unmask_indices, axis=1, batch_dims=1\n",
    "            )\n",
    "            unmasked_positions = tf.gather(\n",
    "                pos_embeddings, unmask_indices, axis=1, batch_dims=1\n",
    "            )\n",
    "            masked_positions = tf.gather(\n",
    "                pos_embeddings, mask_indices, axis=1, batch_dims=1\n",
    "            )\n",
    "            mask_tokens = tf.repeat(self.mask_token, repeats=self.num_mask, axis=0)\n",
    "            mask_tokens = tf.repeat(\n",
    "                mask_tokens[tf.newaxis, ...], repeats=batch_size, axis=0\n",
    "            )\n",
    "\n",
    "            masked_embeddings = self.projection(mask_tokens) + masked_positions\n",
    "            return (\n",
    "                unmasked_embeddings,\n",
    "                masked_embeddings,\n",
    "                unmasked_positions,\n",
    "                mask_indices,\n",
    "                unmask_indices,\n",
    "            )\n",
    "\n",
    "    def get_random_indices(self, batch_size):\n",
    "        rand_indices = tf.argsort(\n",
    "            tf.random.uniform(shape=(batch_size, self.num_patches)), axis=-1\n",
    "        )\n",
    "        mask_indices = rand_indices[:, : self.num_mask]\n",
    "        unmask_indices = rand_indices[:, self.num_mask :]\n",
    "        return mask_indices, unmask_indices\n",
    "\n",
    "    def generate_masked_image(self, patches, unmask_indices):\n",
    "        idx = np.random.choice(patches.shape[0])\n",
    "        patch = patches[idx]\n",
    "        unmask_index = unmask_indices[idx]\n",
    "        new_patch = np.zeros_like(patch)\n",
    "        count = 0\n",
    "        for i in range(unmask_index.shape[0]):\n",
    "            new_patch[unmask_index[i]] = patch[unmask_index[i]]\n",
    "        return new_patch, idx"
   ]
  },
  {
   "cell_type": "markdown",
   "metadata": {
    "id": "a9p8czLJcoLH"
   },
   "source": [
    "**Teacher Network**"
   ]
  },
  {
   "cell_type": "code",
   "execution_count": 14,
   "metadata": {
    "id": "h_L6ebHfcp9D",
    "tags": []
   },
   "outputs": [],
   "source": [
    "class PatchEncoder_ViT(L.Layer):\n",
    "    def __init__(self, num_patches, projection_dim, **kwargs):\n",
    "        super().__init__()\n",
    "        self.num_patches = num_patches\n",
    "        self.projection = L.Dense(units=projection_dim)\n",
    "        self.position_embedding = L.Embedding(\n",
    "            input_dim=num_patches, output_dim=projection_dim\n",
    "        )\n",
    "\n",
    "    def call(self, patch):\n",
    "        positions = ops.expand_dims(\n",
    "            ops.arange(start=0, stop=self.num_patches, step=1), axis=0\n",
    "        )\n",
    "        projected_patches = self.projection(patch)\n",
    "        encoded = projected_patches + self.position_embedding(positions)\n",
    "        return encoded\n",
    "\n",
    "    def get_config(self):\n",
    "        config = super().get_config()\n",
    "        config.update({\"num_patches\": self.num_patches})\n",
    "        return config"
   ]
  },
  {
   "cell_type": "code",
   "execution_count": 15,
   "metadata": {
    "id": "yMlcj5tEgpDo",
    "tags": []
   },
   "outputs": [],
   "source": [
    "teacher_config = {\n",
    "    'projection_dim': 128,\n",
    "    'num_heads' : 4,\n",
    "    'transformer_layers' : 8,\n",
    "    'mlp_head_units': [2048, 1024]\n",
    "}\n",
    "\n",
    "\n",
    "teacher_config['transformer_units'] = [\n",
    "    teacher_config['projection_dim'] * 2,\n",
    "    teacher_config['projection_dim']\n",
    "]\n"
   ]
  },
  {
   "cell_type": "code",
   "execution_count": 16,
   "metadata": {
    "id": "KSUu8gPab3t1",
    "tags": []
   },
   "outputs": [],
   "source": [
    "data_augmentation = keras.Sequential(\n",
    "    [\n",
    "        L.Normalization(),\n",
    "        L.Resizing(IMAGE_SIZE, IMAGE_SIZE),\n",
    "        L.RandomFlip(\"horizontal\"),\n",
    "        L.RandomRotation(factor=0.02),\n",
    "        L.RandomZoom(height_factor=0.2, width_factor=0.2),\n",
    "    ],\n",
    "    name=\"data_augmentation\",\n",
    ")\n",
    "# Compute the mean and the variance of the training data for normalization.\n",
    "data_augmentation.layers[0].adapt(x_train)"
   ]
  },
  {
   "cell_type": "code",
   "execution_count": 17,
   "metadata": {
    "id": "T23hnE4teygG",
    "tags": []
   },
   "outputs": [],
   "source": [
    "def dense_projection(x, dropout_rate, hidden_units, name = None):\n",
    "    for units in hidden_units:\n",
    "        if name:\n",
    "            #print(name + '_' + str(units))\n",
    "            x = L.Dense(units, activation=tf.nn.gelu, name = name + '_' + str(units))(x)\n",
    "        else:\n",
    "            x = L.Dense(units, activation=tf.nn.gelu)(x)\n",
    "        x = L.Dropout(dropout_rate)(x)\n",
    "    return x"
   ]
  },
  {
   "cell_type": "code",
   "execution_count": 18,
   "metadata": {
    "id": "5VnU__GJgWD5",
    "tags": []
   },
   "outputs": [],
   "source": [
    "from os import name\n",
    "def create_vit_classifier():\n",
    "    inputs = keras.Input(shape=INPUT_SHAPE)\n",
    "    # Augment data.\n",
    "    augmented = data_augmentation(inputs)\n",
    "    # Create patches.\n",
    "    patches = Patches(PATCH_SIZE)(augmented)\n",
    "    # Encode patches.\n",
    "    encoded_patches = PatchEncoder(NUM_PATCHES, teacher_config['projection_dim'], downstream=True)(patches)\n",
    "\n",
    "    # Create multiple layers of the Transformer block.\n",
    "    for i in range(teacher_config['transformer_layers']):\n",
    "        # Layer normalization 1.\n",
    "        x1 = L.LayerNormalization(epsilon=1e-6, name = f\"vit_lnorm_{i}__1\")(encoded_patches)\n",
    "        # Create a multi-head attention layer.\n",
    "        attention_output = L.MultiHeadAttention(\n",
    "            num_heads=teacher_config['num_heads'], key_dim=teacher_config['projection_dim'], dropout=0.1,\n",
    "            name=f\"vit_attention_{i}\"\n",
    "        )(x1, x1)\n",
    "        # Skip connection 1.\n",
    "        x2 = L.Add(name = f\"vit_add_{i}\")([attention_output, encoded_patches])\n",
    "        # Layer normalization 2.\n",
    "        x3 = L.LayerNormalization(epsilon=1e-6, name = f\"vit_lnorm_{i}__2\")(x2)\n",
    "        # MLP.\n",
    "        x3 = dense_projection(x3, hidden_units=teacher_config['transformer_units'], dropout_rate=0.1, name = f\"vit_dense_{i}\")\n",
    "        # Skip connection 2.\n",
    "        encoded_patches = L.Add(name = f\"vit_add_{i}_2\")([x3, x2])\n",
    "\n",
    "    # Create a [batch_size, projection_dim] tensor.\n",
    "    representation = L.LayerNormalization(epsilon=1e-6)(encoded_patches)\n",
    "    representation = L.Flatten()(representation)\n",
    "    representation = L.Dropout(0.5)(representation)\n",
    "    # Add MLP.\n",
    "    features = dense_projection(representation, hidden_units=teacher_config['mlp_head_units'], dropout_rate=0.5)\n",
    "    # Classify outputs.\n",
    "    num_classes = 100\n",
    "    logits = L.Dense(100)(features)\n",
    "    # Create the Keras model.\n",
    "    model = keras.Model(inputs=inputs, outputs=logits)\n",
    "    fe_model = keras.Model(inputs=inputs, outputs=model.get_layer(\"vit_dense_5_128\").output, name=\"vit_interim\")\n",
    "    return model, fe_model"
   ]
  },
  {
   "cell_type": "code",
   "execution_count": 19,
   "metadata": {
    "colab": {
     "base_uri": "https://localhost:8080/"
    },
    "id": "ZxJIMwSkjO92",
    "outputId": "3396c1ab-5e94-4b25-ebb1-f823bd7c62fb",
    "tags": []
   },
   "outputs": [],
   "source": [
    "vit_classifier, vit_interim = create_vit_classifier()"
   ]
  },
  {
   "cell_type": "code",
   "execution_count": 20,
   "metadata": {
    "tags": []
   },
   "outputs": [],
   "source": [
    "vit_classifier.compile(\n",
    "    optimizer='adam',\n",
    "    loss=keras.losses.SparseCategoricalCrossentropy(from_logits=True),\n",
    "    metrics=[\n",
    "        keras.metrics.SparseCategoricalAccuracy(name=\"accuracy\"),\n",
    "        keras.metrics.SparseTopKCategoricalAccuracy(5, name=\"top-5-accuracy\"),\n",
    "    ],\n",
    ")"
   ]
  },
  {
   "cell_type": "code",
   "execution_count": 21,
   "metadata": {
    "tags": []
   },
   "outputs": [
    {
     "data": {
      "text/plain": [
       "<tensorflow.python.checkpoint.checkpoint.CheckpointLoadStatus at 0x7fec3a200cd0>"
      ]
     },
     "execution_count": 21,
     "metadata": {},
     "output_type": "execute_result"
    }
   ],
   "source": [
    "vit_classifier.load_weights('./weights_teacher/vit_128_v1.ckpt')"
   ]
  },
  {
   "cell_type": "code",
   "execution_count": 22,
   "metadata": {
    "tags": []
   },
   "outputs": [],
   "source": [
    "for layer_ in vit_classifier.layers:\n",
    "    layer_.trainable=False"
   ]
  },
  {
   "cell_type": "code",
   "execution_count": 23,
   "metadata": {
    "tags": []
   },
   "outputs": [
    {
     "name": "stdout",
     "output_type": "stream",
     "text": [
      "313/313 [==============================] - 13s 31ms/step - loss: 2.2016 - accuracy: 0.5206 - top-5-accuracy: 0.7848\n",
      "Test accuracy: 52.06%\n",
      "Test top 5 accuracy: 78.48%\n"
     ]
    }
   ],
   "source": [
    "_, accuracy, top_5_accuracy = vit_classifier.evaluate(x_valid, y_valid)\n",
    "print(f\"Test accuracy: {round(accuracy * 100, 2)}%\")\n",
    "print(f\"Test top 5 accuracy: {round(top_5_accuracy * 100, 2)}%\")\n"
   ]
  },
  {
   "cell_type": "code",
   "execution_count": 24,
   "metadata": {
    "colab": {
     "base_uri": "https://localhost:8080/",
     "height": 1000
    },
    "id": "d5pFh8uGwvRO",
    "outputId": "226f21ee-fa72-4aa9-ca13-b25c97bb8f67",
    "tags": []
   },
   "outputs": [],
   "source": [
    "def run_experiment(model):\n",
    "    optimizer = keras.optimizers.AdamW(\n",
    "        learning_rate=0.001, weight_decay=0.0001\n",
    "    )\n",
    "\n",
    "    model.compile(\n",
    "        optimizer=optimizer,\n",
    "        loss=keras.losses.SparseCategoricalCrossentropy(from_logits=True),\n",
    "        metrics=[\n",
    "            keras.metrics.SparseCategoricalAccuracy(name=\"accuracy\"),\n",
    "            keras.metrics.SparseTopKCategoricalAccuracy(5, name=\"top-5-accuracy\"),\n",
    "        ],\n",
    "    )\n",
    "\n",
    "    #checkpoint_filepath = \"/chkpt/checkpoint.weights.h5\"\n",
    "    #checkpoint_callback = keras.callbacks.ModelCheckpoint(\n",
    "    #    checkpoint_filepath,\n",
    "    #    monitor=\"val_accuracy\",\n",
    "    #    save_best_only=True,\n",
    "    #    save_weights_only=True,\n",
    "    #)\n",
    "\n",
    "    history = model.fit(\n",
    "        x=x_train,\n",
    "        y=y_train,\n",
    "        batch_size=BATCH_SIZE,\n",
    "        epochs=75,\n",
    "        validation_split=0.1,\n",
    "        callbacks=[],\n",
    "    )\n",
    "\n",
    "    #model.load_weights(checkpoint_filepath)\n",
    "    _, accuracy, top_5_accuracy = model.evaluate(x_valid, y_valid)\n",
    "    print(f\"Test accuracy: {round(accuracy * 100, 2)}%\")\n",
    "    print(f\"Test top 5 accuracy: {round(top_5_accuracy * 100, 2)}%\")\n",
    "\n",
    "    return history\n",
    "\n",
    "\n",
    "#vit_classifier = create_vit_classifier()\n",
    "#history = run_experiment(vit_classifier)\n",
    "\n",
    "\n",
    "def plot_history(item):\n",
    "    plt.plot(history.history[item], label=item)\n",
    "    plt.plot(history.history[\"val_\" + item], label=\"val_\" + item)\n",
    "    plt.xlabel(\"Epochs\")\n",
    "    plt.ylabel(item)\n",
    "    plt.title(\"Train and Validation {} Over Epochs\".format(item), fontsize=14)\n",
    "    plt.legend()\n",
    "    plt.grid()\n",
    "    plt.show()\n",
    "\n",
    "\n",
    "#plot_history(\"loss\")\n",
    "#plot_history(\"top-5-accuracy\")"
   ]
  },
  {
   "cell_type": "code",
   "execution_count": 25,
   "metadata": {
    "tags": []
   },
   "outputs": [],
   "source": [
    "#vit_classifier.save_weights('./weights_teacher/vit_128_v1.ckpt')"
   ]
  },
  {
   "cell_type": "code",
   "execution_count": 26,
   "metadata": {},
   "outputs": [],
   "source": [
    "for layer_ in vit_classifier.layers:\n",
    "    layer_.trainable=False"
   ]
  },
  {
   "cell_type": "code",
   "execution_count": 27,
   "metadata": {
    "tags": []
   },
   "outputs": [
    {
     "data": {
      "text/plain": [
       "'2.15.2'"
      ]
     },
     "execution_count": 27,
     "metadata": {},
     "output_type": "execute_result"
    }
   ],
   "source": [
    "import tensorboard\n",
    "tensorboard.__version__"
   ]
  },
  {
   "cell_type": "markdown",
   "metadata": {
    "id": "mXw-hlmhyiLj"
   },
   "source": [
    "**MAE Layers**"
   ]
  },
  {
   "cell_type": "code",
   "execution_count": 28,
   "metadata": {
    "id": "awqwXlzozlQr"
   },
   "outputs": [],
   "source": [
    "def create_encoder(num_heads=ENC_NUM_HEADS, num_layers=ENC_LAYERS, _teacher_config = teacher_config):\n",
    "    inputs = L.Input((None, ENC_PROJECTION_DIM))\n",
    "    x = inputs\n",
    "\n",
    "    for i in range(num_layers):\n",
    "        x1 = L.LayerNormalization(epsilon=LAYER_NORM_EPS, name = f\"mae_lnorm1_{i}_enc\")(x)\n",
    "        attention_output = L.MultiHeadAttention(\n",
    "            num_heads=num_heads, key_dim=ENC_PROJECTION_DIM, dropout=0.1,\n",
    "            name=f\"mae_attention_{i}_enc\"\n",
    "        )(x1, x1)\n",
    "        x2 = L.Add(name = f\"mae_add1_{i}_enc\")([attention_output, x])\n",
    "        x3 = L.LayerNormalization(epsilon=LAYER_NORM_EPS, name = f\"mae_lnorm2_{i}_enc\")(x2)\n",
    "        x3 = dense_projection(x3, hidden_units=ENC_TRANSFORMER_UNITS, dropout_rate=0.1, name = f\"mae_dense_{i}_enc\")\n",
    "        x = L.Add(name = f\"mae_add2_{i}_enc\")([x3, x2])\n",
    "\n",
    "    outputs = L.LayerNormalization(epsilon=LAYER_NORM_EPS, name = f\"mae_lnorm_out\")(x)\n",
    "    main_model = keras.Model(inputs, outputs, name=\"mae_encoder\")\n",
    "\n",
    "    #project intermediate output to teacher dimensions\n",
    "    attention_output = main_model.get_layer(\"mae_attention_4_enc\").output\n",
    "    out_project = dense_projection(outputs, hidden_units=teacher_config['transformer_units'], dropout_rate=0.01, name = f\"mae_dense_project\")\n",
    "\n",
    "    intermediate_layer_model = keras.Model(inputs=main_model.input, outputs=out_project, name=\"mae_encoder_interim\")\n",
    "    return main_model, intermediate_layer_model"
   ]
  },
  {
   "cell_type": "code",
   "execution_count": 29,
   "metadata": {
    "id": "k1kt6-K3zobp"
   },
   "outputs": [],
   "source": [
    "def create_decoder(\n",
    "    num_layers=DEC_LAYERS, num_heads=DEC_NUM_HEADS, image_size=IMAGE_SIZE\n",
    "):\n",
    "    inputs = L.Input((NUM_PATCHES, ENC_PROJECTION_DIM))\n",
    "    x = L.Dense(DEC_PROJECTION_DIM)(inputs)\n",
    "\n",
    "    for i in range(num_layers):\n",
    "        x1 = L.LayerNormalization(epsilon=LAYER_NORM_EPS, name = f\"mae_lnorm1_{i}_dec\")(x)\n",
    "        attention_output = L.MultiHeadAttention(\n",
    "            num_heads=num_heads, key_dim=DEC_PROJECTION_DIM, dropout=0.1, name = f\"mae_attention_{i}_dec\"\n",
    "        )(x1, x1)\n",
    "        x2 = L.Add(name = f\"mae_add1_{i}_dec\")([attention_output, x])\n",
    "        x3 = L.LayerNormalization(epsilon=LAYER_NORM_EPS, name = f\"mae_lnorm2_{i}_dec\")(x2)\n",
    "        x3 = dense_projection(x3, hidden_units=DEC_TRANSFORMER_UNITS, dropout_rate=0.1, name = f\"mae_dense_{i}_dec\")\n",
    "        x = L.Add(name = f\"mae_add2_{i}_dec\")([x3, x2])\n",
    "\n",
    "    x = L.LayerNormalization(epsilon=LAYER_NORM_EPS, name = f\"mae_lnorm_out_dec\")(x)\n",
    "    x = L.Flatten(name = f\"mae_flatten_out_dec\")(x)\n",
    "    pre_final = L.Dense(units=image_size * image_size * 3, activation=\"sigmoid\")(x)\n",
    "    outputs = L.Reshape((image_size, image_size, 3))(pre_final)\n",
    "\n",
    "    return keras.Model(inputs, outputs, name=\"mae_decoder\")"
   ]
  },
  {
   "cell_type": "code",
   "execution_count": 30,
   "metadata": {
    "id": "_PyoQRZS0Bda"
   },
   "outputs": [],
   "source": [
    "class MaskedAutoencoder(keras.Model):\n",
    "    def __init__(\n",
    "        self,\n",
    "        train_augmentation_model,\n",
    "        test_augmentation_model,\n",
    "        patch_layer,\n",
    "        patch_encoder,\n",
    "        encoder,\n",
    "        decoder,\n",
    "        encoder_interim,\n",
    "        teacher_model=vit_interim,\n",
    "        **kwargs,\n",
    "    ):\n",
    "        super().__init__(**kwargs)\n",
    "        self.train_augmentation_model = train_augmentation_model\n",
    "        self.test_augmentation_model = test_augmentation_model\n",
    "        self.patch_layer = patch_layer\n",
    "        self.patch_encoder = patch_encoder\n",
    "        self.encoder = encoder\n",
    "        self.decoder = decoder\n",
    "        self.encoder_interim = encoder_interim\n",
    "        self.teacher_model = teacher_model\n",
    "\n",
    "    def calculate_loss(self, images, test=False):\n",
    "        if test:\n",
    "            augmented_images = self.test_augmentation_model(images)\n",
    "        else:\n",
    "            augmented_images = self.train_augmentation_model(images)\n",
    "\n",
    "        patches = self.patch_layer(augmented_images)\n",
    "        (\n",
    "            unmasked_embeddings,\n",
    "            masked_embeddings,\n",
    "            unmasked_positions,\n",
    "            mask_indices,\n",
    "            unmask_indices,\n",
    "        ) = self.patch_encoder(patches)\n",
    "\n",
    "        encoder_outputs = self.encoder(unmasked_embeddings)\n",
    "        encoder_outputs = encoder_outputs + unmasked_positions\n",
    "        decoder_inputs = tf.concat([encoder_outputs, masked_embeddings], axis=1)\n",
    "        decoder_outputs = self.decoder(decoder_inputs)\n",
    "        decoder_patches = self.patch_layer(decoder_outputs)\n",
    "\n",
    "        loss_patch = tf.gather(patches, mask_indices, axis=1, batch_dims=1)\n",
    "        loss_output = tf.gather(decoder_patches, mask_indices, axis=1, batch_dims=1)\n",
    "\n",
    "        #intermediate output\n",
    "        #self.patch_layer.downstream = True\n",
    "        #fe_patches = self.patch_layer(augmented_images)\n",
    "        #fe_patch_embeddings = self.patch_encoder(fe_patches)\n",
    "\n",
    "        #print('patch', patches , fe_patches)\n",
    "        #print('patch_embeddings', fe_patch_embeddings)\n",
    "\n",
    "\n",
    "        #print(patch_layer.downstream)\n",
    "\n",
    "        self.patch_encoder.downstream = True\n",
    "        intermediate_embeddings = self.patch_encoder(patches)\n",
    "        intermediate_output = self.encoder_interim(intermediate_embeddings)\n",
    "\n",
    "        self.patch_encoder.downstream = False\n",
    "\n",
    "        #intermediate_output = tf.concat([intermediate_output, masked_embeddings], axis=1)\n",
    "\n",
    "        #intermediate teacher output\n",
    "        teacher_output = self.teacher_model(images)\n",
    "\n",
    "        #distillation loss\n",
    "        \n",
    "        loss_distill = self.compiled_loss(intermediate_output, teacher_output)\n",
    "\n",
    "        #self.patch_layer.downstream = False\n",
    "\n",
    "        total_loss = loss_distill #+ self.compiled_loss(loss_patch, loss_output) + loss_distill\n",
    "\n",
    "        return total_loss, loss_patch, loss_output, loss_distill\n",
    "\n",
    "    def train_step(self, images):\n",
    "        with tf.GradientTape() as tape:\n",
    "            total_loss, loss_patch, loss_output, loss_distill = self.calculate_loss(images)\n",
    "\n",
    "        train_vars = [\n",
    "            self.train_augmentation_model.trainable_variables,\n",
    "            self.patch_layer.trainable_variables,\n",
    "            self.patch_encoder.trainable_variables,\n",
    "            self.encoder.trainable_variables,\n",
    "            self.decoder.trainable_variables,\n",
    "        ]\n",
    "        grads = tape.gradient(total_loss, train_vars)\n",
    "        tv_list = []\n",
    "        for (grad, var) in zip(grads, train_vars):\n",
    "            for g, v in zip(grad, var):\n",
    "                tv_list.append((g, v))\n",
    "        self.optimizer.apply_gradients(tv_list)\n",
    "        self.compiled_metrics.update_state(loss_patch, loss_output)\n",
    "        return {m.name: m.result() for m in self.metrics}\n",
    "\n",
    "    def test_step(self, images):\n",
    "        total_loss, loss_patch, loss_output, loss_distill = self.calculate_loss(images, test=True)\n",
    "        self.compiled_metrics.update_state(loss_patch, loss_output, loss_distill)\n",
    "        return {m.name: m.result() for m in self.metrics}"
   ]
  },
  {
   "cell_type": "markdown",
   "metadata": {
    "id": "8EXAB-TP4YZ9"
   },
   "source": [
    "**Monitoring Callbacks**"
   ]
  },
  {
   "cell_type": "code",
   "execution_count": 31,
   "metadata": {
    "id": "d43YX1x54b3T"
   },
   "outputs": [],
   "source": [
    "test_images = next(iter(valid_ds))\n",
    "\n",
    "\n",
    "class TrainMonitor(keras.callbacks.Callback):\n",
    "    def __init__(self, epoch_interval=None):\n",
    "        self.epoch_interval = epoch_interval\n",
    "\n",
    "    def on_epoch_end(self, epoch, logs=None, base_path = './weights_distil'):\n",
    "        if self.epoch_interval and epoch % self.epoch_interval == 0:\n",
    "            test_augmented_images = self.model.test_augmentation_model(test_images)\n",
    "            test_patches = self.model.patch_layer(test_augmented_images)\n",
    "            (\n",
    "                test_unmasked_embeddings,\n",
    "                test_masked_embeddings,\n",
    "                test_unmasked_positions,\n",
    "                test_mask_indices,\n",
    "                test_unmask_indices,\n",
    "            ) = self.model.patch_encoder(test_patches)\n",
    "            test_encoder_outputs = self.model.encoder(test_unmasked_embeddings)\n",
    "            test_encoder_outputs = test_encoder_outputs + test_unmasked_positions\n",
    "            test_decoder_inputs = tf.concat(\n",
    "                [test_encoder_outputs, test_masked_embeddings], axis=1\n",
    "            )\n",
    "            test_decoder_outputs = self.model.decoder(test_decoder_inputs)\n",
    "            \n",
    "            #save model checkpoint\n",
    "            if not os.path.isdir(base_path + ('/_chk_a%i'%(epoch))):\n",
    "                os.mkdir(base_path + ('/_chk_a%i'%(epoch)))\n",
    "            self.model.save_weights(base_path + ('/_chk_a%i/model_checkpoint.ckpt'%(epoch)))\n",
    "            \n",
    "\n",
    "            # Intermediate layer output\n",
    "            #self.patch_encoder.downstream = True\n",
    "            #intermediate_layer = self.model.encoder_interim(test_unmasked_embeddings)\n",
    "            #intermediate_layer = intermediate_layer #+ test_unmasked_positions\n",
    "\n",
    "            # Show a maksed patch image.\n",
    "            test_masked_patch, idx = self.model.patch_encoder.generate_masked_image(\n",
    "                test_patches, test_unmask_indices\n",
    "            )\n",
    "            print(f\"\\nIdx chosen: {idx}\")\n",
    "            original_image = test_augmented_images[idx]\n",
    "            masked_image = self.model.patch_layer.reconstruct_from_patch(\n",
    "                test_masked_patch\n",
    "            )\n",
    "            reconstructed_image = test_decoder_outputs[idx]\n",
    "\n",
    "            fig, ax = plt.subplots(nrows=1, ncols=3, figsize=(15, 5))\n",
    "            ax[0].imshow(original_image)\n",
    "            ax[0].set_title(f\"Original: {epoch:03d}\")\n",
    "\n",
    "            ax[1].imshow(masked_image)\n",
    "            ax[1].set_title(f\"Masked: {epoch:03d}\")\n",
    "\n",
    "            ax[2].imshow(reconstructed_image)\n",
    "            ax[2].set_title(f\"Resonstructed: {epoch:03d}\")\n",
    "\n",
    "\n",
    "            plt.show()\n",
    "            plt.close()"
   ]
  },
  {
   "cell_type": "code",
   "execution_count": 32,
   "metadata": {
    "colab": {
     "base_uri": "https://localhost:8080/"
    },
    "id": "ORswAyjF43zX",
    "outputId": "fa7e754c-6721-4363-90a3-fa91286aa55b"
   },
   "outputs": [],
   "source": [
    "train_augmentation_model = get_train_augmentation_model()\n",
    "test_augmentation_model = get_test_augmentation_model()\n",
    "patch_layer = Patches()\n",
    "patch_encoder = PatchEncoder()\n",
    "encoder, enc_interim = create_encoder()\n",
    "decoder = create_decoder()\n",
    "\n",
    "mae_model = MaskedAutoencoder(\n",
    "    train_augmentation_model=train_augmentation_model,\n",
    "    test_augmentation_model=test_augmentation_model,\n",
    "    patch_layer=patch_layer,\n",
    "    patch_encoder=patch_encoder,\n",
    "    encoder=encoder,\n",
    "    decoder=decoder,\n",
    "    encoder_interim=enc_interim\n",
    ")\n",
    "\n",
    "\n",
    "mae_model.compile(\n",
    "    optimizer='adam', loss=keras.losses.MeanSquaredError(), metrics=[\"mae\"]\n",
    ")"
   ]
  },
  {
   "cell_type": "code",
   "execution_count": 33,
   "metadata": {
    "tags": []
   },
   "outputs": [],
   "source": [
    "#mae_model.load_weights('./weights_notrain/_chk_70/model_checkpoint.ckpt')"
   ]
  },
  {
   "cell_type": "code",
   "execution_count": 34,
   "metadata": {
    "id": "n2gJVZ3AkduZ"
   },
   "outputs": [],
   "source": [
    "#vit_interim.summary()"
   ]
  },
  {
   "cell_type": "code",
   "execution_count": 35,
   "metadata": {
    "id": "VlLZyVqYj9yl"
   },
   "outputs": [],
   "source": [
    "#mae_model.encoder_interim.summary()"
   ]
  },
  {
   "cell_type": "code",
   "execution_count": 36,
   "metadata": {
    "colab": {
     "base_uri": "https://localhost:8080/",
     "height": 356
    },
    "id": "YNbitNOz529f",
    "outputId": "f641a248-e625-455f-f3ca-e0fce58c2913"
   },
   "outputs": [
    {
     "data": {
      "text/plain": [
       "'\\nkeras.utils.plot_model(encoder, show_shapes=True, to_file=\"encoder.png\")\\nkeras.utils.plot_model(decoder, show_shapes=True, to_file=\"decoder.png\")\\nfig, ax = plt.subplots(1, 2, figsize=(20, 60))\\nax[0].imshow(plt.imread(\\'encoder.png\\'))\\nax[0].set_title(\\'Encoder\\', fontsize=12)\\nax[0].axis(\"off\")\\nax[1].imshow(plt.imread(\\'decoder.png\\'))\\nax[1].set_title(\\'Decoder\\', fontsize=12)\\nax[1].axis(\"off\");\\n'"
      ]
     },
     "execution_count": 36,
     "metadata": {},
     "output_type": "execute_result"
    }
   ],
   "source": [
    "'''\n",
    "keras.utils.plot_model(encoder, show_shapes=True, to_file=\"encoder.png\")\n",
    "keras.utils.plot_model(decoder, show_shapes=True, to_file=\"decoder.png\")\n",
    "fig, ax = plt.subplots(1, 2, figsize=(20, 60))\n",
    "ax[0].imshow(plt.imread('encoder.png'))\n",
    "ax[0].set_title('Encoder', fontsize=12)\n",
    "ax[0].axis(\"off\")\n",
    "ax[1].imshow(plt.imread('decoder.png'))\n",
    "ax[1].set_title('Decoder', fontsize=12)\n",
    "ax[1].axis(\"off\");\n",
    "'''"
   ]
  },
  {
   "cell_type": "code",
   "execution_count": 37,
   "metadata": {
    "tags": []
   },
   "outputs": [
    {
     "name": "stdout",
     "output_type": "stream",
     "text": [
      "attack_distil1.csv\t   dstr_dmae_l\n",
      "attack_distil2.csv\t   dstr_dmae_l1\n",
      "attack_distil3.csv\t   dstr_dmae_l2\n",
      "attack_distil4.csv\t   dstr_dmae_l3\n",
      "attack_distil.csv\t   dstr_dmae_l4\n",
      "attack_distil_dmae3.csv    dstr_dmae_l5\n",
      "attack_distil_dmae4.csv    dstr_dp\n",
      "attack_distil_dmae5.csv    dstr.index\n",
      "attack_distil_dmae.csv\t   dstr_notrain2\n",
      "attack_distil_dmae_l1.csv  dstr_notrain3\n",
      "attack_distil_dmae_l2.csv  dstr_notrain4\n",
      "attack_distil_dmae_l4.csv  dstr_notrain_l2\n",
      "attack_distil_dmae_l5.csv  dstr_notrain_l3\n",
      "attack_distil_dmae_l.csv   dstr_notrain_l4\n",
      "attack_distil_dp.csv\t   MAE_Keras_2_1.ipynb\n",
      "attack_notrain1.csv\t   README.md\n",
      "attack_notrain2.csv\t   tblogs\n",
      "attack_notrain3.csv\t   tboard_logs.zip\n",
      "attack_notrain4.csv\t   test\n",
      "attack_notrain.txt\t   Untitled.ipynb\n",
      "checkpoint\t\t   utils\n",
      "DMAE_Keras.ipynb\t   vit_128_v1.ckpt.data-00000-of-00001\n",
      "dstr\t\t\t   vit_128_v1.ckpt.index\n",
      "dstr2\t\t\t   vit_128_v1.weights.h5\n",
      "dstr3\t\t\t   ViT_Keras.ipynb\n",
      "dstr4\t\t\t   weights_distil\n",
      "dstr.data-00000-of-00001   weights_mae\n",
      "dstr_dmae\t\t   weights_mae_nodistil\n",
      "dstr_dmae1\t\t   weights_notrain\n",
      "dstr_dmae2\t\t   weights_teacher\n",
      "dstr_dmae3\t\t   weights_teacher.zip\n",
      "dstr_dmae4\t\t   xyz.py\n",
      "dstr_dmae5\n"
     ]
    }
   ],
   "source": [
    "!dir"
   ]
  },
  {
   "cell_type": "code",
   "execution_count": 38,
   "metadata": {
    "tags": []
   },
   "outputs": [],
   "source": [
    "#logdir=\"./tblogs/mae/_distil_dmae\"\n",
    "#if not os.path.isdir(logdir):\n",
    "#                os.mkdir(logdir)\n",
    "#tensorboard_callback = keras.callbacks.TensorBoard(log_dir=logdir)"
   ]
  },
  {
   "cell_type": "code",
   "execution_count": 39,
   "metadata": {
    "colab": {
     "base_uri": "https://localhost:8080/",
     "height": 659
    },
    "id": "_tSJRO1z2Ls4",
    "outputId": "016e36a9-8e31-4904-a8e5-a85cc8f4d8cf"
   },
   "outputs": [
    {
     "name": "stdout",
     "output_type": "stream",
     "text": [
      "40/40 [==============================] - 14s 205ms/step - loss: 372.7503 - mae: 0.2601\n",
      "Loss: 372.75\n",
      "MAE: 0.26\n"
     ]
    }
   ],
   "source": [
    "es = keras.callbacks.EarlyStopping(min_delta=1e-4, patience=25, verbose=1, restore_best_weights=True)\n",
    "rlp = keras.callbacks.ReduceLROnPlateau(patience=3, verbose=1)\n",
    "\n",
    "#history = mae_model.fit(\n",
    "#    train_ds, epochs=EPOCHS, validation_data=valid_ds, callbacks=[TrainMonitor(epoch_interval=5), es, rlp, tensorboard_callback],\n",
    "#)\n",
    "\n",
    "loss, mae = mae_model.evaluate(valid_ds)\n",
    "print(f\"Loss: {loss:.2f}\")\n",
    "print(f\"MAE: {mae:.2f}\")"
   ]
  },
  {
   "cell_type": "code",
   "execution_count": 40,
   "metadata": {
    "tags": []
   },
   "outputs": [],
   "source": [
    "#for layer_ in mae_model.layers:\n",
    "#    layer_.trainable=False"
   ]
  },
  {
   "cell_type": "code",
   "execution_count": 41,
   "metadata": {
    "tags": []
   },
   "outputs": [
    {
     "data": {
      "text/plain": [
       "\"\\nattn_only = True\\nfound_attn = False\\nfor layer_ in mae_model.encoder.layers:\\n    if layer_.name == 'mae_attention_2_enc':\\n        found_attn = True\\n    if attn_only:\\n        if not found_attn:\\n            layer_.trainable = False\\n        else:\\n            layer_.trainable = True\\n    else:\\n        layer_.trainable = False\\n\""
      ]
     },
     "execution_count": 41,
     "metadata": {},
     "output_type": "execute_result"
    }
   ],
   "source": [
    "'''\n",
    "attn_only = True\n",
    "found_attn = False\n",
    "for layer_ in mae_model.encoder.layers:\n",
    "    if layer_.name == 'mae_attention_2_enc':\n",
    "        found_attn = True\n",
    "    if attn_only:\n",
    "        if not found_attn:\n",
    "            layer_.trainable = False\n",
    "        else:\n",
    "            layer_.trainable = True\n",
    "    else:\n",
    "        layer_.trainable = False\n",
    "'''"
   ]
  },
  {
   "cell_type": "code",
   "execution_count": 42,
   "metadata": {
    "scrolled": true,
    "tags": []
   },
   "outputs": [
    {
     "name": "stdout",
     "output_type": "stream",
     "text": [
      "Model: \"mae_encoder\"\n",
      "__________________________________________________________________________________________________\n",
      " Layer (type)                Output Shape                 Param #   Connected to                  \n",
      "==================================================================================================\n",
      " input_2 (InputLayer)        [(None, None, 64)]           0         []                            \n",
      "                                                                                                  \n",
      " mae_lnorm1_0_enc (LayerNor  (None, None, 64)             128       ['input_2[0][0]']             \n",
      " malization)                                                                                      \n",
      "                                                                                                  \n",
      " mae_attention_0_enc (Multi  (None, None, 64)             66368     ['mae_lnorm1_0_enc[0][0]',    \n",
      " HeadAttention)                                                      'mae_lnorm1_0_enc[0][0]']    \n",
      "                                                                                                  \n",
      " mae_add1_0_enc (Add)        (None, None, 64)             0         ['mae_attention_0_enc[0][0]', \n",
      "                                                                     'input_2[0][0]']             \n",
      "                                                                                                  \n",
      " mae_lnorm2_0_enc (LayerNor  (None, None, 64)             128       ['mae_add1_0_enc[0][0]']      \n",
      " malization)                                                                                      \n",
      "                                                                                                  \n",
      " mae_dense_0_enc_128 (Dense  (None, None, 128)            8320      ['mae_lnorm2_0_enc[0][0]']    \n",
      " )                                                                                                \n",
      "                                                                                                  \n",
      " dropout_19 (Dropout)        (None, None, 128)            0         ['mae_dense_0_enc_128[0][0]'] \n",
      "                                                                                                  \n",
      " mae_dense_0_enc_64 (Dense)  (None, None, 64)             8256      ['dropout_19[0][0]']          \n",
      "                                                                                                  \n",
      " dropout_20 (Dropout)        (None, None, 64)             0         ['mae_dense_0_enc_64[0][0]']  \n",
      "                                                                                                  \n",
      " mae_add2_0_enc (Add)        (None, None, 64)             0         ['dropout_20[0][0]',          \n",
      "                                                                     'mae_add1_0_enc[0][0]']      \n",
      "                                                                                                  \n",
      " mae_lnorm1_1_enc (LayerNor  (None, None, 64)             128       ['mae_add2_0_enc[0][0]']      \n",
      " malization)                                                                                      \n",
      "                                                                                                  \n",
      " mae_attention_1_enc (Multi  (None, None, 64)             66368     ['mae_lnorm1_1_enc[0][0]',    \n",
      " HeadAttention)                                                      'mae_lnorm1_1_enc[0][0]']    \n",
      "                                                                                                  \n",
      " mae_add1_1_enc (Add)        (None, None, 64)             0         ['mae_attention_1_enc[0][0]', \n",
      "                                                                     'mae_add2_0_enc[0][0]']      \n",
      "                                                                                                  \n",
      " mae_lnorm2_1_enc (LayerNor  (None, None, 64)             128       ['mae_add1_1_enc[0][0]']      \n",
      " malization)                                                                                      \n",
      "                                                                                                  \n",
      " mae_dense_1_enc_128 (Dense  (None, None, 128)            8320      ['mae_lnorm2_1_enc[0][0]']    \n",
      " )                                                                                                \n",
      "                                                                                                  \n",
      " dropout_21 (Dropout)        (None, None, 128)            0         ['mae_dense_1_enc_128[0][0]'] \n",
      "                                                                                                  \n",
      " mae_dense_1_enc_64 (Dense)  (None, None, 64)             8256      ['dropout_21[0][0]']          \n",
      "                                                                                                  \n",
      " dropout_22 (Dropout)        (None, None, 64)             0         ['mae_dense_1_enc_64[0][0]']  \n",
      "                                                                                                  \n",
      " mae_add2_1_enc (Add)        (None, None, 64)             0         ['dropout_22[0][0]',          \n",
      "                                                                     'mae_add1_1_enc[0][0]']      \n",
      "                                                                                                  \n",
      " mae_lnorm1_2_enc (LayerNor  (None, None, 64)             128       ['mae_add2_1_enc[0][0]']      \n",
      " malization)                                                                                      \n",
      "                                                                                                  \n",
      " mae_attention_2_enc (Multi  (None, None, 64)             66368     ['mae_lnorm1_2_enc[0][0]',    \n",
      " HeadAttention)                                                      'mae_lnorm1_2_enc[0][0]']    \n",
      "                                                                                                  \n",
      " mae_add1_2_enc (Add)        (None, None, 64)             0         ['mae_attention_2_enc[0][0]', \n",
      "                                                                     'mae_add2_1_enc[0][0]']      \n",
      "                                                                                                  \n",
      " mae_lnorm2_2_enc (LayerNor  (None, None, 64)             128       ['mae_add1_2_enc[0][0]']      \n",
      " malization)                                                                                      \n",
      "                                                                                                  \n",
      " mae_dense_2_enc_128 (Dense  (None, None, 128)            8320      ['mae_lnorm2_2_enc[0][0]']    \n",
      " )                                                                                                \n",
      "                                                                                                  \n",
      " dropout_23 (Dropout)        (None, None, 128)            0         ['mae_dense_2_enc_128[0][0]'] \n",
      "                                                                                                  \n",
      " mae_dense_2_enc_64 (Dense)  (None, None, 64)             8256      ['dropout_23[0][0]']          \n",
      "                                                                                                  \n",
      " dropout_24 (Dropout)        (None, None, 64)             0         ['mae_dense_2_enc_64[0][0]']  \n",
      "                                                                                                  \n",
      " mae_add2_2_enc (Add)        (None, None, 64)             0         ['dropout_24[0][0]',          \n",
      "                                                                     'mae_add1_2_enc[0][0]']      \n",
      "                                                                                                  \n",
      " mae_lnorm1_3_enc (LayerNor  (None, None, 64)             128       ['mae_add2_2_enc[0][0]']      \n",
      " malization)                                                                                      \n",
      "                                                                                                  \n",
      " mae_attention_3_enc (Multi  (None, None, 64)             66368     ['mae_lnorm1_3_enc[0][0]',    \n",
      " HeadAttention)                                                      'mae_lnorm1_3_enc[0][0]']    \n",
      "                                                                                                  \n",
      " mae_add1_3_enc (Add)        (None, None, 64)             0         ['mae_attention_3_enc[0][0]', \n",
      "                                                                     'mae_add2_2_enc[0][0]']      \n",
      "                                                                                                  \n",
      " mae_lnorm2_3_enc (LayerNor  (None, None, 64)             128       ['mae_add1_3_enc[0][0]']      \n",
      " malization)                                                                                      \n",
      "                                                                                                  \n",
      " mae_dense_3_enc_128 (Dense  (None, None, 128)            8320      ['mae_lnorm2_3_enc[0][0]']    \n",
      " )                                                                                                \n",
      "                                                                                                  \n",
      " dropout_25 (Dropout)        (None, None, 128)            0         ['mae_dense_3_enc_128[0][0]'] \n",
      "                                                                                                  \n",
      " mae_dense_3_enc_64 (Dense)  (None, None, 64)             8256      ['dropout_25[0][0]']          \n",
      "                                                                                                  \n",
      " dropout_26 (Dropout)        (None, None, 64)             0         ['mae_dense_3_enc_64[0][0]']  \n",
      "                                                                                                  \n",
      " mae_add2_3_enc (Add)        (None, None, 64)             0         ['dropout_26[0][0]',          \n",
      "                                                                     'mae_add1_3_enc[0][0]']      \n",
      "                                                                                                  \n",
      " mae_lnorm1_4_enc (LayerNor  (None, None, 64)             128       ['mae_add2_3_enc[0][0]']      \n",
      " malization)                                                                                      \n",
      "                                                                                                  \n",
      " mae_attention_4_enc (Multi  (None, None, 64)             66368     ['mae_lnorm1_4_enc[0][0]',    \n",
      " HeadAttention)                                                      'mae_lnorm1_4_enc[0][0]']    \n",
      "                                                                                                  \n",
      " mae_add1_4_enc (Add)        (None, None, 64)             0         ['mae_attention_4_enc[0][0]', \n",
      "                                                                     'mae_add2_3_enc[0][0]']      \n",
      "                                                                                                  \n",
      " mae_lnorm2_4_enc (LayerNor  (None, None, 64)             128       ['mae_add1_4_enc[0][0]']      \n",
      " malization)                                                                                      \n",
      "                                                                                                  \n",
      " mae_dense_4_enc_128 (Dense  (None, None, 128)            8320      ['mae_lnorm2_4_enc[0][0]']    \n",
      " )                                                                                                \n",
      "                                                                                                  \n",
      " dropout_27 (Dropout)        (None, None, 128)            0         ['mae_dense_4_enc_128[0][0]'] \n",
      "                                                                                                  \n",
      " mae_dense_4_enc_64 (Dense)  (None, None, 64)             8256      ['dropout_27[0][0]']          \n",
      "                                                                                                  \n",
      " dropout_28 (Dropout)        (None, None, 64)             0         ['mae_dense_4_enc_64[0][0]']  \n",
      "                                                                                                  \n",
      " mae_add2_4_enc (Add)        (None, None, 64)             0         ['dropout_28[0][0]',          \n",
      "                                                                     'mae_add1_4_enc[0][0]']      \n",
      "                                                                                                  \n",
      " mae_lnorm1_5_enc (LayerNor  (None, None, 64)             128       ['mae_add2_4_enc[0][0]']      \n",
      " malization)                                                                                      \n",
      "                                                                                                  \n",
      " mae_attention_5_enc (Multi  (None, None, 64)             66368     ['mae_lnorm1_5_enc[0][0]',    \n",
      " HeadAttention)                                                      'mae_lnorm1_5_enc[0][0]']    \n",
      "                                                                                                  \n",
      " mae_add1_5_enc (Add)        (None, None, 64)             0         ['mae_attention_5_enc[0][0]', \n",
      "                                                                     'mae_add2_4_enc[0][0]']      \n",
      "                                                                                                  \n",
      " mae_lnorm2_5_enc (LayerNor  (None, None, 64)             128       ['mae_add1_5_enc[0][0]']      \n",
      " malization)                                                                                      \n",
      "                                                                                                  \n",
      " mae_dense_5_enc_128 (Dense  (None, None, 128)            8320      ['mae_lnorm2_5_enc[0][0]']    \n",
      " )                                                                                                \n",
      "                                                                                                  \n",
      " dropout_29 (Dropout)        (None, None, 128)            0         ['mae_dense_5_enc_128[0][0]'] \n",
      "                                                                                                  \n",
      " mae_dense_5_enc_64 (Dense)  (None, None, 64)             8256      ['dropout_29[0][0]']          \n",
      "                                                                                                  \n",
      " dropout_30 (Dropout)        (None, None, 64)             0         ['mae_dense_5_enc_64[0][0]']  \n",
      "                                                                                                  \n",
      " mae_add2_5_enc (Add)        (None, None, 64)             0         ['dropout_30[0][0]',          \n",
      "                                                                     'mae_add1_5_enc[0][0]']      \n",
      "                                                                                                  \n",
      " mae_lnorm_out (LayerNormal  (None, None, 64)             128       ['mae_add2_5_enc[0][0]']      \n",
      " ization)                                                                                         \n",
      "                                                                                                  \n",
      "==================================================================================================\n",
      "Total params: 499328 (1.90 MB)\n",
      "Trainable params: 499328 (1.90 MB)\n",
      "Non-trainable params: 0 (0.00 Byte)\n",
      "__________________________________________________________________________________________________\n"
     ]
    }
   ],
   "source": [
    "mae_model.encoder.summary()"
   ]
  },
  {
   "cell_type": "code",
   "execution_count": 43,
   "metadata": {
    "tags": []
   },
   "outputs": [],
   "source": [
    "#mae_model.save_weights('./weights_mae/mae_70.ckpt')"
   ]
  },
  {
   "cell_type": "markdown",
   "metadata": {},
   "source": [
    "**Downstream Classification Tasks**"
   ]
  },
  {
   "cell_type": "code",
   "execution_count": 44,
   "metadata": {
    "id": "Ae9RHB8e3zsv"
   },
   "outputs": [],
   "source": [
    "train_augmentation_model = mae_model.train_augmentation_model\n",
    "test_augmentation_model = mae_model.test_augmentation_model\n",
    "\n",
    "patch_layer = mae_model.patch_layer\n",
    "patch_encoder = mae_model.patch_encoder\n",
    "patch_encoder.downstream = True\n",
    "\n",
    "encoder = mae_model.encoder\n",
    "dropout_rate= 0.5\n",
    "downstream_model = keras.Sequential(\n",
    "    [\n",
    "        L.Input((IMAGE_SIZE, IMAGE_SIZE, 3)),\n",
    "        patch_layer,\n",
    "        patch_encoder,\n",
    "        encoder,\n",
    "        L.BatchNormalization(),\n",
    "        L.GlobalAveragePooling1D(),\n",
    "        L.Dense(2048, activation=keras.activations.gelu),\n",
    "        L.Dropout(dropout_rate),\n",
    "        L.Dense(1024, activation=keras.activations.gelu),\n",
    "        L.Dropout(dropout_rate),\n",
    "        L.Dense(10),\n",
    "    ],\n",
    "    name=\"downstream_model1\",\n",
    ")"
   ]
  },
  {
   "cell_type": "code",
   "execution_count": 45,
   "metadata": {},
   "outputs": [],
   "source": [
    "def prepare_data(images, labels, is_train=True):\n",
    "    if is_train:\n",
    "        augmentation_model = train_augmentation_model\n",
    "    else:\n",
    "        augmentation_model = test_augmentation_model\n",
    "\n",
    "    dataset = tf.data.Dataset.from_tensor_slices((images, labels))\n",
    "    if is_train:\n",
    "        dataset = dataset.shuffle(BUFFER_SIZE)\n",
    "\n",
    "    dataset = dataset.batch(BATCH_SIZE).map(\n",
    "        lambda x, y: (augmentation_model(x), y), num_parallel_calls=AUTO\n",
    "    )\n",
    "    return dataset.prefetch(AUTO)\n",
    "\n",
    "(x_train, y_train), (x_valid, y_valid) = keras.datasets.cifar10.load_data()\n",
    "train_ds = prepare_data(x_train, y_train)\n",
    "valid_ds = prepare_data(x_valid, y_valid, is_train=False)"
   ]
  },
  {
   "cell_type": "code",
   "execution_count": 46,
   "metadata": {
    "tags": []
   },
   "outputs": [],
   "source": [
    "logdir_dstr=\"./tblogs/dstr/_notrain5\"\n",
    "if not os.path.isdir(logdir_dstr):\n",
    "                os.mkdir(logdir_dstr)\n",
    "tensorboard_callback_dstr = keras.callbacks.TensorBoard(log_dir=logdir_dstr)"
   ]
  },
  {
   "cell_type": "code",
   "execution_count": 47,
   "metadata": {},
   "outputs": [],
   "source": [
    "ckpt_dstr=\"./dstr_notrain5\"\n",
    "flname = '/mdl.ckpt'\n",
    "if not os.path.isdir(ckpt_dstr):\n",
    "                os.mkdir(ckpt_dstr)\n",
    "        \n",
    "model_checkpoint_callback = tf.keras.callbacks.ModelCheckpoint(\n",
    "    filepath=ckpt_dstr+flname,\n",
    "    save_weights_only=True,\n",
    "    monitor='val_accuracy',\n",
    "    mode='max',\n",
    "    save_best_only=True)"
   ]
  },
  {
   "cell_type": "code",
   "execution_count": 48,
   "metadata": {},
   "outputs": [],
   "source": [
    "ckpt_dstr_l=\"./dstr_notrain_l5\"\n",
    "flname = '/mdl.ckpt'\n",
    "if not os.path.isdir(ckpt_dstr_l):\n",
    "                os.mkdir(ckpt_dstr_l)\n",
    "        \n",
    "model_checkpoint_callback1 = tf.keras.callbacks.ModelCheckpoint(\n",
    "    filepath=ckpt_dstr_l+flname,\n",
    "    save_weights_only=True,\n",
    "    monitor='val_loss',\n",
    "    mode='min',\n",
    "    save_best_only=True)"
   ]
  },
  {
   "cell_type": "code",
   "execution_count": 49,
   "metadata": {
    "tags": []
   },
   "outputs": [],
   "source": [
    "learning_rate=0.0001\n",
    "#weight_decay = 0.0001"
   ]
  },
  {
   "cell_type": "code",
   "execution_count": 50,
   "metadata": {
    "tags": []
   },
   "outputs": [],
   "source": [
    "from tensorflow_privacy import DPKerasAdamOptimizer as DPAdam"
   ]
  },
  {
   "cell_type": "code",
   "execution_count": 51,
   "metadata": {
    "tags": []
   },
   "outputs": [],
   "source": [
    "l2_norm_clip = 1.5\n",
    "noise_multiplier = 0.6\n",
    "num_microbatches = 1"
   ]
  },
  {
   "cell_type": "code",
   "execution_count": 52,
   "metadata": {
    "tags": []
   },
   "outputs": [],
   "source": [
    "loss = tf.keras.losses.SparseCategoricalCrossentropy(from_logits=True)\n",
    "\n",
    "optimizer = keras.optimizers.AdamW(\n",
    "    learning_rate=learning_rate, amsgrad=True#, weight_decay=weight_decay\n",
    ")\n",
    "\n",
    "#DP Adam \n",
    "\n",
    "#optimizer = DPAdam(\n",
    "#    l2_norm_clip=l2_norm_clip, \n",
    "#    noise_multiplier=noise_multiplier,\n",
    "#    num_microbatches=num_microbatches, \n",
    "#    learning_rate=learning_rate, \n",
    "#    amsgrad=True\n",
    "#)\n",
    "\n",
    "downstream_model.compile(\n",
    "    optimizer=optimizer, loss=loss, metrics=[\"accuracy\"]\n",
    ")\n"
   ]
  },
  {
   "cell_type": "code",
   "execution_count": null,
   "metadata": {},
   "outputs": [
    {
     "name": "stdout",
     "output_type": "stream",
     "text": [
      "Epoch 1/150\n",
      "WARNING:tensorflow:Gradients do not exist for variables ['Variable:0'] when minimizing the loss. If you're using `model.compile()`, did you forget to provide a `loss` argument?\n",
      "WARNING:tensorflow:Gradients do not exist for variables ['Variable:0'] when minimizing the loss. If you're using `model.compile()`, did you forget to provide a `loss` argument?\n",
      "WARNING:tensorflow:Gradients do not exist for variables ['Variable:0'] when minimizing the loss. If you're using `model.compile()`, did you forget to provide a `loss` argument?\n",
      "WARNING:tensorflow:Gradients do not exist for variables ['Variable:0'] when minimizing the loss. If you're using `model.compile()`, did you forget to provide a `loss` argument?\n"
     ]
    },
    {
     "name": "stderr",
     "output_type": "stream",
     "text": [
      "2024-09-07 22:00:54.054373: I external/local_xla/xla/service/service.cc:168] XLA service 0x7feb59d70b90 initialized for platform CUDA (this does not guarantee that XLA will be used). Devices:\n",
      "2024-09-07 22:00:54.054434: I external/local_xla/xla/service/service.cc:176]   StreamExecutor device (0): NVIDIA GeForce GTX 1080 Ti, Compute Capability 6.1\n",
      "2024-09-07 22:00:54.054447: I external/local_xla/xla/service/service.cc:176]   StreamExecutor device (1): NVIDIA GeForce GTX 1080 Ti, Compute Capability 6.1\n",
      "2024-09-07 22:00:54.099583: I tensorflow/compiler/mlir/tensorflow/utils/dump_mlir_util.cc:269] disabling MLIR crash reproducer, set env var `MLIR_CRASH_REPRODUCER_DIRECTORY` to enable.\n",
      "2024-09-07 22:00:54.180118: I external/local_xla/xla/stream_executor/cuda/cuda_dnn.cc:454] Loaded cuDNN version 8907\n",
      "WARNING: All log messages before absl::InitializeLog() is called are written to STDERR\n",
      "I0000 00:00:1725739254.309018 4034538 device_compiler.h:186] Compiled cluster using XLA!  This line is logged at most once for the lifetime of the process.\n"
     ]
    },
    {
     "name": "stdout",
     "output_type": "stream",
     "text": [
      "196/196 [==============================] - 71s 242ms/step - loss: 1.9068 - accuracy: 0.2790 - val_loss: 1.7106 - val_accuracy: 0.3548\n",
      "Epoch 2/150\n",
      "196/196 [==============================] - 46s 237ms/step - loss: 1.6294 - accuracy: 0.3872 - val_loss: 1.6546 - val_accuracy: 0.3946\n",
      "Epoch 3/150\n",
      "196/196 [==============================] - 47s 239ms/step - loss: 1.4983 - accuracy: 0.4436 - val_loss: 1.5053 - val_accuracy: 0.4644\n",
      "Epoch 4/150\n",
      "196/196 [==============================] - 48s 243ms/step - loss: 1.4007 - accuracy: 0.4847 - val_loss: 1.4001 - val_accuracy: 0.4914\n",
      "Epoch 5/150\n",
      "196/196 [==============================] - 46s 236ms/step - loss: 1.3233 - accuracy: 0.5165 - val_loss: 1.4393 - val_accuracy: 0.4915\n",
      "Epoch 6/150\n",
      "196/196 [==============================] - 47s 242ms/step - loss: 1.2634 - accuracy: 0.5408 - val_loss: 1.3564 - val_accuracy: 0.5135\n",
      "Epoch 7/150\n",
      "196/196 [==============================] - 47s 242ms/step - loss: 1.2162 - accuracy: 0.5607 - val_loss: 1.3105 - val_accuracy: 0.5392\n",
      "Epoch 8/150\n",
      "196/196 [==============================] - 45s 231ms/step - loss: 1.1760 - accuracy: 0.5725 - val_loss: 1.5868 - val_accuracy: 0.4904\n",
      "Epoch 9/150\n",
      "196/196 [==============================] - 48s 243ms/step - loss: 1.1392 - accuracy: 0.5871 - val_loss: 1.2336 - val_accuracy: 0.5603\n",
      "Epoch 10/150\n",
      "196/196 [==============================] - 47s 242ms/step - loss: 1.1087 - accuracy: 0.5992 - val_loss: 1.1678 - val_accuracy: 0.5898\n",
      "Epoch 11/150\n",
      "196/196 [==============================] - 45s 231ms/step - loss: 1.0776 - accuracy: 0.6126 - val_loss: 1.1914 - val_accuracy: 0.5886\n",
      "Epoch 12/150\n",
      "196/196 [==============================] - 45s 232ms/step - loss: 1.0563 - accuracy: 0.6194 - val_loss: 1.2317 - val_accuracy: 0.5741\n",
      "Epoch 13/150\n",
      "196/196 [==============================] - 47s 237ms/step - loss: 1.0360 - accuracy: 0.6266 - val_loss: 1.1814 - val_accuracy: 0.5958\n",
      "Epoch 14/150\n",
      "196/196 [==============================] - 47s 239ms/step - loss: 1.0188 - accuracy: 0.6352 - val_loss: 1.1620 - val_accuracy: 0.5949\n",
      "Epoch 15/150\n",
      "196/196 [==============================] - 45s 229ms/step - loss: 0.9967 - accuracy: 0.6422 - val_loss: 1.1502 - val_accuracy: 0.6101\n",
      "Epoch 16/150\n",
      "196/196 [==============================] - 46s 235ms/step - loss: 0.9822 - accuracy: 0.6475 - val_loss: 1.1411 - val_accuracy: 0.6127\n",
      "Epoch 17/150\n",
      "196/196 [==============================] - 45s 231ms/step - loss: 0.9642 - accuracy: 0.6547 - val_loss: 1.0263 - val_accuracy: 0.6456\n",
      "Epoch 18/150\n",
      "196/196 [==============================] - 44s 222ms/step - loss: 0.9513 - accuracy: 0.6608 - val_loss: 1.0603 - val_accuracy: 0.6408\n",
      "Epoch 19/150\n",
      "196/196 [==============================] - 44s 224ms/step - loss: 0.9374 - accuracy: 0.6645 - val_loss: 1.0624 - val_accuracy: 0.6357\n",
      "Epoch 20/150\n",
      "196/196 [==============================] - 45s 229ms/step - loss: 0.9251 - accuracy: 0.6701 - val_loss: 1.0353 - val_accuracy: 0.6485\n",
      "Epoch 21/150\n",
      "196/196 [==============================] - 45s 227ms/step - loss: 0.9091 - accuracy: 0.6742 - val_loss: 1.0270 - val_accuracy: 0.6558\n",
      "Epoch 22/150\n",
      "196/196 [==============================] - 43s 222ms/step - loss: 0.9008 - accuracy: 0.6797 - val_loss: 1.0666 - val_accuracy: 0.6399\n",
      "Epoch 23/150\n",
      "196/196 [==============================] - 46s 234ms/step - loss: 0.8850 - accuracy: 0.6844 - val_loss: 0.9768 - val_accuracy: 0.6559\n",
      "Epoch 24/150\n",
      "196/196 [==============================] - 43s 218ms/step - loss: 0.8726 - accuracy: 0.6897 - val_loss: 0.9978 - val_accuracy: 0.6534\n",
      "Epoch 25/150\n",
      "196/196 [==============================] - 45s 228ms/step - loss: 0.8652 - accuracy: 0.6944 - val_loss: 1.0239 - val_accuracy: 0.6586\n",
      "Epoch 26/150\n",
      "196/196 [==============================] - 45s 229ms/step - loss: 0.8572 - accuracy: 0.6954 - val_loss: 0.9984 - val_accuracy: 0.6652\n",
      "Epoch 27/150\n",
      "196/196 [==============================] - 45s 230ms/step - loss: 0.8440 - accuracy: 0.6981 - val_loss: 0.9793 - val_accuracy: 0.6693\n",
      "Epoch 28/150\n",
      "196/196 [==============================] - 44s 223ms/step - loss: 0.8352 - accuracy: 0.7020 - val_loss: 1.0312 - val_accuracy: 0.6552\n",
      "Epoch 29/150\n",
      "196/196 [==============================] - 45s 229ms/step - loss: 0.8282 - accuracy: 0.7060 - val_loss: 0.9895 - val_accuracy: 0.6705\n",
      "Epoch 30/150\n",
      "196/196 [==============================] - 44s 223ms/step - loss: 0.8177 - accuracy: 0.7100 - val_loss: 0.9976 - val_accuracy: 0.6691\n",
      "Epoch 31/150\n",
      "196/196 [==============================] - 46s 235ms/step - loss: 0.8120 - accuracy: 0.7118 - val_loss: 0.9640 - val_accuracy: 0.6798\n",
      "Epoch 32/150\n",
      "196/196 [==============================] - 46s 233ms/step - loss: 0.8032 - accuracy: 0.7152 - val_loss: 0.9585 - val_accuracy: 0.6825\n",
      "Epoch 33/150\n",
      "196/196 [==============================] - 46s 233ms/step - loss: 0.7934 - accuracy: 0.7196 - val_loss: 0.9482 - val_accuracy: 0.6844\n",
      "Epoch 34/150\n",
      "196/196 [==============================] - 46s 234ms/step - loss: 0.7853 - accuracy: 0.7190 - val_loss: 0.9280 - val_accuracy: 0.6891\n",
      "Epoch 35/150\n",
      "196/196 [==============================] - 43s 221ms/step - loss: 0.7819 - accuracy: 0.7203 - val_loss: 0.9618 - val_accuracy: 0.6802\n",
      "Epoch 36/150\n",
      "196/196 [==============================] - 46s 233ms/step - loss: 0.7682 - accuracy: 0.7281 - val_loss: 0.9239 - val_accuracy: 0.6950\n",
      "Epoch 37/150\n",
      "196/196 [==============================] - 44s 224ms/step - loss: 0.7650 - accuracy: 0.7293 - val_loss: 0.9358 - val_accuracy: 0.6931\n",
      "Epoch 38/150\n",
      "196/196 [==============================] - 46s 236ms/step - loss: 0.7582 - accuracy: 0.7306 - val_loss: 0.9170 - val_accuracy: 0.6990\n",
      "Epoch 39/150\n",
      "196/196 [==============================] - 44s 222ms/step - loss: 0.7475 - accuracy: 0.7340 - val_loss: 0.9630 - val_accuracy: 0.6863\n",
      "Epoch 40/150\n",
      "196/196 [==============================] - 44s 224ms/step - loss: 0.7405 - accuracy: 0.7367 - val_loss: 0.9331 - val_accuracy: 0.6944\n",
      "Epoch 41/150\n",
      "196/196 [==============================] - 44s 222ms/step - loss: 0.7386 - accuracy: 0.7377 - val_loss: 0.9487 - val_accuracy: 0.6905\n",
      "Epoch 42/150\n",
      "196/196 [==============================] - 44s 224ms/step - loss: 0.7330 - accuracy: 0.7412 - val_loss: 0.9481 - val_accuracy: 0.6955\n",
      "Epoch 43/150\n",
      "196/196 [==============================] - 44s 224ms/step - loss: 0.7226 - accuracy: 0.7440 - val_loss: 0.9755 - val_accuracy: 0.6813\n",
      "Epoch 44/150\n",
      "196/196 [==============================] - 44s 223ms/step - loss: 0.7172 - accuracy: 0.7440 - val_loss: 0.9329 - val_accuracy: 0.6965\n",
      "Epoch 45/150\n",
      "196/196 [==============================] - 44s 222ms/step - loss: 0.7171 - accuracy: 0.7451 - val_loss: 0.9483 - val_accuracy: 0.6937\n",
      "Epoch 46/150\n",
      "196/196 [==============================] - 44s 224ms/step - loss: 0.7056 - accuracy: 0.7478 - val_loss: 0.9737 - val_accuracy: 0.6884\n",
      "Epoch 47/150\n",
      "196/196 [==============================] - 43s 221ms/step - loss: 0.7002 - accuracy: 0.7518 - val_loss: 0.9596 - val_accuracy: 0.6896\n",
      "Epoch 48/150\n",
      "196/196 [==============================] - 44s 223ms/step - loss: 0.6959 - accuracy: 0.7537 - val_loss: 0.9615 - val_accuracy: 0.6960\n",
      "Epoch 49/150\n",
      "196/196 [==============================] - 46s 236ms/step - loss: 0.6871 - accuracy: 0.7559 - val_loss: 0.9003 - val_accuracy: 0.7072\n",
      "Epoch 50/150\n",
      "196/196 [==============================] - 43s 221ms/step - loss: 0.6838 - accuracy: 0.7569 - val_loss: 0.9533 - val_accuracy: 0.6973\n",
      "Epoch 51/150\n",
      "196/196 [==============================] - 44s 224ms/step - loss: 0.6793 - accuracy: 0.7580 - val_loss: 0.9328 - val_accuracy: 0.7020\n",
      "Epoch 52/150\n",
      "196/196 [==============================] - 44s 222ms/step - loss: 0.6724 - accuracy: 0.7588 - val_loss: 0.9496 - val_accuracy: 0.7008\n",
      "Epoch 53/150\n",
      "196/196 [==============================] - 44s 223ms/step - loss: 0.6642 - accuracy: 0.7654 - val_loss: 0.9864 - val_accuracy: 0.6965\n",
      "Epoch 54/150\n",
      "196/196 [==============================] - 44s 224ms/step - loss: 0.6645 - accuracy: 0.7625 - val_loss: 0.9412 - val_accuracy: 0.6957\n",
      "Epoch 55/150\n",
      "196/196 [==============================] - 43s 222ms/step - loss: 0.6565 - accuracy: 0.7670 - val_loss: 0.9379 - val_accuracy: 0.7045\n",
      "Epoch 56/150\n",
      "196/196 [==============================] - 44s 224ms/step - loss: 0.6487 - accuracy: 0.7689 - val_loss: 0.9463 - val_accuracy: 0.7065\n",
      "Epoch 57/150\n",
      "196/196 [==============================] - 44s 223ms/step - loss: 0.6422 - accuracy: 0.7712 - val_loss: 1.0759 - val_accuracy: 0.6807\n",
      "Epoch 58/150\n",
      "196/196 [==============================] - 44s 222ms/step - loss: 0.6444 - accuracy: 0.7709 - val_loss: 0.9807 - val_accuracy: 0.6954\n",
      "Epoch 59/150\n",
      "196/196 [==============================] - 45s 229ms/step - loss: 0.6377 - accuracy: 0.7733 - val_loss: 0.9009 - val_accuracy: 0.7166\n",
      "Epoch 60/150\n",
      "196/196 [==============================] - 44s 222ms/step - loss: 0.6340 - accuracy: 0.7733 - val_loss: 0.9592 - val_accuracy: 0.6977\n",
      "Epoch 61/150\n",
      "196/196 [==============================] - 44s 223ms/step - loss: 0.6284 - accuracy: 0.7761 - val_loss: 0.9562 - val_accuracy: 0.7018\n",
      "Epoch 62/150\n",
      "196/196 [==============================] - 44s 223ms/step - loss: 0.6240 - accuracy: 0.7786 - val_loss: 0.9538 - val_accuracy: 0.7025\n",
      "Epoch 63/150\n",
      "196/196 [==============================] - 44s 223ms/step - loss: 0.6130 - accuracy: 0.7824 - val_loss: 0.9910 - val_accuracy: 0.6964\n",
      "Epoch 64/150\n",
      "196/196 [==============================] - 44s 223ms/step - loss: 0.6172 - accuracy: 0.7796 - val_loss: 0.9889 - val_accuracy: 0.6976\n",
      "Epoch 65/150\n",
      "196/196 [==============================] - 44s 223ms/step - loss: 0.6065 - accuracy: 0.7827 - val_loss: 0.9475 - val_accuracy: 0.7048\n",
      "Epoch 66/150\n",
      "196/196 [==============================] - 44s 224ms/step - loss: 0.6083 - accuracy: 0.7811 - val_loss: 0.9860 - val_accuracy: 0.6945\n",
      "Epoch 67/150\n",
      "196/196 [==============================] - 44s 223ms/step - loss: 0.5989 - accuracy: 0.7872 - val_loss: 0.9419 - val_accuracy: 0.7107\n",
      "Epoch 68/150\n",
      "196/196 [==============================] - 43s 217ms/step - loss: 0.5935 - accuracy: 0.7891 - val_loss: 0.9949 - val_accuracy: 0.6997\n",
      "Epoch 69/150\n",
      "196/196 [==============================] - 43s 220ms/step - loss: 0.5896 - accuracy: 0.7887 - val_loss: 0.9416 - val_accuracy: 0.7116\n",
      "Epoch 70/150\n",
      "196/196 [==============================] - 42s 216ms/step - loss: 0.5835 - accuracy: 0.7918 - val_loss: 1.0050 - val_accuracy: 0.6996\n",
      "Epoch 71/150\n",
      "196/196 [==============================] - 45s 227ms/step - loss: 0.5862 - accuracy: 0.7897 - val_loss: 0.9056 - val_accuracy: 0.7181\n",
      "Epoch 72/150\n",
      "196/196 [==============================] - 44s 224ms/step - loss: 0.5745 - accuracy: 0.7944 - val_loss: 0.9587 - val_accuracy: 0.7127\n",
      "Epoch 73/150\n",
      "196/196 [==============================] - 44s 224ms/step - loss: 0.5711 - accuracy: 0.7952 - val_loss: 0.9511 - val_accuracy: 0.7102\n",
      "Epoch 74/150\n",
      "196/196 [==============================] - 44s 224ms/step - loss: 0.5695 - accuracy: 0.7970 - val_loss: 0.9728 - val_accuracy: 0.7088\n",
      "Epoch 75/150\n",
      "196/196 [==============================] - 44s 223ms/step - loss: 0.5648 - accuracy: 0.7969 - val_loss: 1.0330 - val_accuracy: 0.6976\n",
      "Epoch 76/150\n",
      "196/196 [==============================] - 44s 223ms/step - loss: 0.5618 - accuracy: 0.8007 - val_loss: 0.9833 - val_accuracy: 0.7022\n",
      "Epoch 77/150\n",
      "196/196 [==============================] - 44s 223ms/step - loss: 0.5577 - accuracy: 0.8017 - val_loss: 0.9699 - val_accuracy: 0.7135\n",
      "Epoch 78/150\n",
      " 93/196 [=============>................] - ETA: 21s - loss: 0.5511 - accuracy: 0.8013"
     ]
    }
   ],
   "source": [
    "es = keras.callbacks.EarlyStopping(min_delta=1e-4, patience=25, verbose=1, restore_best_weights=True)\n",
    "rlp = keras.callbacks.ReduceLROnPlateau(patience=4, verbose=1)\n",
    "\n",
    "downstream_model.fit(train_ds, validation_data=valid_ds, epochs=150, callbacks=[tensorboard_callback_dstr, model_checkpoint_callback, model_checkpoint_callback1])\n",
    "\n",
    "loss, accuracy = downstream_model.evaluate(valid_ds)\n",
    "accuracy = round(accuracy * 100, 2)\n",
    "print(f\"Accuracy on the test set: {accuracy}%.\")"
   ]
  },
  {
   "cell_type": "code",
   "execution_count": null,
   "metadata": {
    "tags": []
   },
   "outputs": [],
   "source": [
    "downstream_model.load_weights(\"./dstr_notrain5/mdl.ckpt\")"
   ]
  },
  {
   "cell_type": "code",
   "execution_count": null,
   "metadata": {
    "tags": []
   },
   "outputs": [],
   "source": [
    "loss, accuracy = downstream_model.evaluate(valid_ds)\n",
    "accuracy = round(accuracy * 100, 2)\n",
    "print(f\"Accuracy on the test set: {accuracy}%.\")"
   ]
  },
  {
   "cell_type": "markdown",
   "metadata": {},
   "source": [
    "**Membership Inference Score**"
   ]
  },
  {
   "cell_type": "code",
   "execution_count": null,
   "metadata": {
    "tags": []
   },
   "outputs": [],
   "source": [
    "import tensorflow_privacy.privacy.privacy_tests.membership_inference_attack.membership_inference_attack as mia\n",
    "from tensorflow_privacy.privacy.privacy_tests.membership_inference_attack.data_structures import AttackInputData\n",
    "from tensorflow_privacy.privacy.privacy_tests.membership_inference_attack.data_structures import SlicingSpec\n",
    "from tensorflow_privacy.privacy.privacy_tests.membership_inference_attack.data_structures import AttackType"
   ]
  },
  {
   "cell_type": "code",
   "execution_count": null,
   "metadata": {},
   "outputs": [],
   "source": [
    "x_train_aug = test_augmentation_model(x_train)\n",
    "x_valid_aug = test_augmentation_model(x_valid)"
   ]
  },
  {
   "cell_type": "code",
   "execution_count": null,
   "metadata": {},
   "outputs": [],
   "source": [
    "print('Predict on train...')\n",
    "logits_train = downstream_model.predict(x_train_aug)\n",
    "print('Predict on test...')\n",
    "logits_test = downstream_model.predict(x_valid_aug)\n",
    "\n",
    "print('Apply softmax to get probabilities from logits...')\n",
    "prob_train = tf.nn.softmax(logits_train, axis=-1)\n",
    "prob_test = tf.nn.softmax(logits_test)\n",
    "\n",
    "print('Compute losses...')\n",
    "cce = tf.keras.backend.categorical_crossentropy\n",
    "constant = tf.keras.backend.constant\n"
   ]
  },
  {
   "cell_type": "code",
   "execution_count": null,
   "metadata": {
    "tags": []
   },
   "outputs": [],
   "source": [
    "y_train_onehot = keras.utils.to_categorical(y_train, num_classes = 10).astype(int)\n",
    "y_test_onehot = keras.utils.to_categorical(y_valid, num_classes = 10).astype(int)\n",
    "\n",
    "loss_train = cce(constant(y_train_onehot), constant(prob_train), from_logits=False).numpy()\n",
    "loss_test = cce(constant(y_test_onehot), constant(prob_test), from_logits=False).numpy()"
   ]
  },
  {
   "cell_type": "code",
   "execution_count": null,
   "metadata": {
    "tags": []
   },
   "outputs": [],
   "source": [
    "y_train.flatten().astype(int)"
   ]
  },
  {
   "cell_type": "code",
   "execution_count": null,
   "metadata": {
    "scrolled": true,
    "tags": []
   },
   "outputs": [],
   "source": [
    "attack_input = AttackInputData(\n",
    "  logits_train = logits_train,\n",
    "  logits_test = logits_test,\n",
    "  loss_train = loss_train,\n",
    "  loss_test = loss_test,\n",
    "  labels_train = y_train.flatten().astype(int),\n",
    "  labels_test = y_valid.flatten().astype(int)\n",
    ")\n",
    "\n",
    "slicing_spec = SlicingSpec(\n",
    "    entire_dataset = True,\n",
    "    by_class = True,\n",
    "    by_percentiles = False,\n",
    "by_classification_correctness = True)\n",
    "\n",
    "attack_types = [\n",
    "    AttackType.THRESHOLD_ATTACK,\n",
    "    AttackType.MULTI_LAYERED_PERCEPTRON \n",
    "] \n",
    "\n",
    "attacks_result = mia.run_attacks(attack_input=attack_input,\n",
    "                                 slicing_spec=slicing_spec,\n",
    "                                 attack_types=attack_types)"
   ]
  },
  {
   "cell_type": "code",
   "execution_count": null,
   "metadata": {
    "tags": []
   },
   "outputs": [],
   "source": [
    "print(attacks_result.summary(by_slices=True))"
   ]
  },
  {
   "cell_type": "code",
   "execution_count": null,
   "metadata": {
    "tags": []
   },
   "outputs": [],
   "source": [
    "import tensorflow_privacy.privacy.membership_inference_attack.plotting as plotting\n",
    "plotting.plot_roc_curve(attacks_result.get_result_with_max_auc().roc_curve)"
   ]
  },
  {
   "cell_type": "code",
   "execution_count": null,
   "metadata": {},
   "outputs": [],
   "source": [
    "#with open(\"attack_dmae.txt\", \"w\") as text_file:\n",
    "#    text_file.write(str(attacks_result))"
   ]
  },
  {
   "cell_type": "code",
   "execution_count": null,
   "metadata": {
    "tags": []
   },
   "outputs": [],
   "source": [
    "import pandas as pd"
   ]
  },
  {
   "cell_type": "code",
   "execution_count": null,
   "metadata": {
    "tags": []
   },
   "outputs": [],
   "source": [
    "attacks_result.calculate_pd_dataframe().to_csv('attack_notrain5.csv')"
   ]
  },
  {
   "cell_type": "code",
   "execution_count": null,
   "metadata": {},
   "outputs": [],
   "source": []
  }
 ],
 "metadata": {
  "accelerator": "GPU",
  "colab": {
   "gpuType": "T4",
   "provenance": []
  },
  "kaggle": {
   "accelerator": "nvidiaTeslaT4",
   "dataSources": [],
   "dockerImageVersionId": 30762,
   "isGpuEnabled": true,
   "isInternetEnabled": true,
   "language": "python",
   "sourceType": "notebook"
  },
  "kernelspec": {
   "display_name": "Python [conda env:tensorflow-2.15.0]",
   "language": "python",
   "name": "conda-env-tensorflow-2.15.0-py"
  },
  "language_info": {
   "codemirror_mode": {
    "name": "ipython",
    "version": 3
   },
   "file_extension": ".py",
   "mimetype": "text/x-python",
   "name": "python",
   "nbconvert_exporter": "python",
   "pygments_lexer": "ipython3",
   "version": "3.11.0"
  }
 },
 "nbformat": 4,
 "nbformat_minor": 4
}
